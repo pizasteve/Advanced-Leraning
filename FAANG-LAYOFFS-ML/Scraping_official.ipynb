{
 "cells": [
  {
   "attachments": {},
   "cell_type": "markdown",
   "metadata": {},
   "source": [
    "<center><h1 style=\"color:white;\n",
    "                    font-size:3em\">\n",
    "        Python pour 📊 Data Science\n",
    "        </h1> \n",
    "        <h2 style=\"color:white;\n",
    "                    font-size:2em\">\n",
    "        Mini-Projet: Scraping\n",
    "       </h2>\n",
    "</center>"
   ]
  },
  {
   "attachments": {},
   "cell_type": "markdown",
   "metadata": {},
   "source": [
    "<div style=\"font-size:1.3em\">\n",
    "    <span>\n",
    "    Réalisé par :¶\n",
    "    </span>\n",
    "      <ul>\n",
    "         <li>BOUKHRIS Imane</li>\n",
    "         <li>SBAI Achraf</li>\n",
    "         <li>Bahraoui Mohamed</li>\n",
    "         \n",
    "   </ul>\n",
    "    <span>\n",
    "    Encadré par :¶\n",
    "    </span>\n",
    "      <ul>\n",
    "         <li>Pr. ELIDRISSRI</li>\n",
    "      </ul>\n",
    "</div>"
   ]
  },
  {
   "attachments": {},
   "cell_type": "markdown",
   "metadata": {},
   "source": [
    "<center id=\"data\">\n",
    "        <h2 style=\"color:white;\n",
    "                    font-size:2em\">\n",
    "        Collecte de données 📂\n",
    "        </h2>\n",
    "</center>"
   ]
  },
  {
   "cell_type": "markdown",
   "metadata": {},
   "source": [
    "<h4 style=\"color:grey\"> Importation de bibliothèques </h4>"
   ]
  },
  {
   "cell_type": "code",
   "execution_count": 96,
   "metadata": {},
   "outputs": [],
   "source": [
    "# bibliothèques utilitaires\n",
    "import os\n",
    "import csv\n",
    "import time\n",
    "import re\n",
    "import pandas as pd\n",
    "from re import search\n",
    "import csv\n",
    "import time\n",
    "import urllib\n",
    "\n",
    "# modules de scraping\n",
    "from selenium import webdriver\n",
    "from selenium.webdriver.common.by import By\n",
    "from selenium.webdriver.common.keys import Keys\n",
    "from selenium.webdriver.chrome.service import Service\n",
    "from selenium.webdriver.chrome.options import Options\n",
    "from selenium.webdriver.support.ui import WebDriverWait\n",
    "from webdriver_manager.chrome import ChromeDriverManager\n",
    "from selenium.webdriver.support import expected_conditions as EC\n",
    "from selenium.webdriver.common.action_chains import ActionChains"
   ]
  },
  {
   "cell_type": "markdown",
   "metadata": {},
   "source": [
    "<h4 style=\"color:grey\"> Initialisation des variables</h4>"
   ]
  },
  {
   "cell_type": "code",
   "execution_count": 97,
   "metadata": {},
   "outputs": [],
   "source": [
    "items_links=[]\n",
    "images=[]\n",
    "prices=[]\n",
    "location_phone=[]\n",
    "brand=[]\n",
    "storage=[]\n",
    "battery=[]\n"
   ]
  },
  {
   "cell_type": "markdown",
   "metadata": {},
   "source": [
    "<h4 style=\"color:grey\">  Définir le webdriver</h4>"
   ]
  },
  {
   "cell_type": "code",
   "execution_count": 98,
   "metadata": {},
   "outputs": [],
   "source": [
    "# définir le webdriver et la configuration, ce code sera presque le même dans tous vos scripts de sélénium\n",
    "options = Options()\n",
    "\n",
    "# !!! blocage des notifications du navigateur !!!\n",
    "prefs = {\"profile.default_content_setting_values.notifications\": 2}\n",
    "\n",
    "# commençant dans la fenêtre maximisée\n",
    "options.add_argument(\"start-maximized\")\n",
    "options.add_argument(\"--disable-default-apps\")\n",
    "driver = webdriver.Chrome(service=Service(ChromeDriverManager().install()), options=options)"
   ]
  },
  {
   "cell_type": "markdown",
   "metadata": {},
   "source": [
    "<h4 style=\"color:grey\"> Obtenir des informations d'identification à partir de variables d'environnement </h4>"
   ]
  },
  {
   "cell_type": "code",
   "execution_count": 99,
   "metadata": {},
   "outputs": [],
   "source": [
    "driver.get(\"https://www.facebook.com/\")"
   ]
  },
  {
   "cell_type": "markdown",
   "metadata": {},
   "source": [
    "<h4 style=\"color:grey\">  Connectez-vous à facebook</h4>"
   ]
  },
  {
   "cell_type": "code",
   "execution_count": 100,
   "metadata": {},
   "outputs": [],
   "source": [
    "email = os.environ.get(\"email\")\n",
    "password = os.environ.get(\"password\")"
   ]
  },
  {
   "cell_type": "code",
   "execution_count": 101,
   "metadata": {},
   "outputs": [],
   "source": [
    "username_field = driver.find_element(By.XPATH,\"//input[@id='email']\")\n",
    "username_field.send_keys(email)\n",
    "\n",
    "password_field = driver.find_element(By.XPATH,\"//div[@id='passContainer']/input\")\n",
    "password_field.send_keys(password)\n",
    "\n",
    "password_field.submit()"
   ]
  },
  {
   "cell_type": "markdown",
   "metadata": {},
   "source": [
    "<h4 style=\"color:grey\">  Allons sur la page du marketplace</h4>"
   ]
  },
  {
   "cell_type": "code",
   "execution_count": 103,
   "metadata": {},
   "outputs": [],
   "source": [
    "item=\"iphone\"\n",
    "driver.get(\"https://www.facebook.com/marketplace/?ref=bookmark\")\n",
    "time.sleep(4)\n",
    "options_research=driver.find_element(By.XPATH,\"//body[1]/div[1]/div[1]/div[1]/div[1]/div[3]/div[1]/div[1]/div[1]/div[1]/div[1]/div[1]/div[1]/div[3]/div[1]/div[2]/div[1]/div[1]/div[7]/div[2]/div[1]/div[1]/div[1]/span[1]\")\n",
    "time.sleep(4)\n",
    "options_research.click()\n",
    "time.sleep(4)\n"
   ]
  },
  {
   "cell_type": "markdown",
   "metadata": {},
   "source": [
    "<h4 style=\"color:grey\">Choisissons l'emplacement</h4>"
   ]
  },
  {
   "cell_type": "code",
   "execution_count": 104,
   "metadata": {},
   "outputs": [],
   "source": [
    "location=driver.find_element(By.XPATH,\"//body[1]/div[1]/div[1]/div[1]/div[1]/div[4]/div[1]/div[1]/div[1]/div[1]/div[2]/div[1]/div[1]/div[1]/div[3]/div[1]/div[2]/div[1]/div[1]/div[1]/div[1]/div[1]/label[1]/div[1]/div[2]/input[1]\")\n",
    "time.sleep(4)\n",
    "location.click()  \n",
    "time.sleep(4)                 \n"
   ]
  },
  {
   "cell_type": "code",
   "execution_count": 105,
   "metadata": {},
   "outputs": [],
   "source": [
    "location.send_keys(\"Rabat, Morocco\")\n",
    "time.sleep(4)\n",
    "location.send_keys(Keys.ENTER)\n",
    "time.sleep(4)\n",
    "\n"
   ]
  },
  {
   "cell_type": "code",
   "execution_count": 106,
   "metadata": {},
   "outputs": [],
   "source": [
    "radius=driver.find_element(By.XPATH,\"//body[1]/div[1]/div[1]/div[1]/div[1]/div[4]/div[1]/div[1]/div[1]/div[1]/div[2]/div[1]/div[1]/div[1]/div[3]/div[1]/div[3]/div[1]/div[1]/label[1]/div[1]/div[1]/div[1]/div[1]/span[1]\")\n",
    "radius.click()\n",
    "time.sleep(4)\n"
   ]
  },
  {
   "cell_type": "code",
   "execution_count": 107,
   "metadata": {},
   "outputs": [],
   "source": [
    "radius_option=driver.find_element(By.XPATH,\"//body[1]/div[1]/div[1]/div[1]/div[1]/div[4]/div[1]/div[1]/div[1]/div[1]/div[3]/div[1]/div[1]/div[1]/div[1]/div[1]/div[1]/div[1]/div[1]/div[2]\")\n",
    "time.sleep(4)\n",
    "location.send_keys(Keys.ENTER)"
   ]
  },
  {
   "cell_type": "code",
   "execution_count": 108,
   "metadata": {},
   "outputs": [],
   "source": [
    "leave_button=driver.find_element(By.XPATH,\"//body[1]/div[1]/div[1]/div[1]/div[1]/div[4]/div[1]/div[1]/div[1]/div[1]/div[2]/div[1]/div[1]/div[1]/div[2]/div[1]/i[1]\")\n",
    "leave_button.click()\n",
    "time.sleep(4)"
   ]
  },
  {
   "attachments": {},
   "cell_type": "markdown",
   "metadata": {},
   "source": [
    "<h4 style=\"color:grey\">Cherchons IPHONE par exemple</h4>"
   ]
  },
  {
   "cell_type": "code",
   "execution_count": 109,
   "metadata": {},
   "outputs": [],
   "source": [
    "search_bar=driver.find_element(By.XPATH,\"//body[1]/div[1]/div[1]/div[1]/div[1]/div[3]/div[1]/div[1]/div[1]/div[1]/div[1]/div[1]/div[1]/div[2]/div[1]/div[1]/div[1]/span[1]/div[1]/div[1]/div[1]/div[1]/label[1]/input[1]\")\n",
    "time.sleep(4)\n",
    "search_bar.send_keys(item)\n"
   ]
  },
  {
   "cell_type": "code",
   "execution_count": 110,
   "metadata": {},
   "outputs": [],
   "source": [
    "search_bar.send_keys(Keys.ENTER)"
   ]
  },
  {
   "cell_type": "markdown",
   "metadata": {},
   "source": [
    "<h4 style=\"color:grey\">Faisons un \"infinite scroll\" vers le bas de la page</h4>"
   ]
  },
  {
   "cell_type": "code",
   "execution_count": 111,
   "metadata": {},
   "outputs": [],
   "source": [
    "for i in range (1200):\n",
    "    driver.execute_script(\"window.scrollTo(0, document.body.scrollHeight/.1);\")\n",
    "    time.sleep(3)"
   ]
  },
  {
   "attachments": {},
   "cell_type": "markdown",
   "metadata": {},
   "source": [
    "\n",
    "\n",
    "\n",
    "\n",
    "\n",
    "\n",
    "\n",
    "<h4 style=\"color:grey\">Extrayons les images des produits</h4>"
   ]
  },
  {
   "cell_type": "code",
   "execution_count": 121,
   "metadata": {},
   "outputs": [
    {
     "name": "stdout",
     "output_type": "stream",
     "text": [
      "['https://scontent.frba5-1.fna.fbcdn.net/v/t45.5328-4/315584883_5773481282728496_9161908886071676551_n.jpg?stp=c0.66.403.403a_dst-jpg_p403x403&_nc_cat=110&ccb=1-7&_nc_sid=c48759&_nc_eui2=AeFYkY9msHG5wSsdmDgUYnfx48A2FHcIbNLjwDYUdwhs0tPDNvqduqQ-iRQgtEky0N_3RdbCxaERSfmJoM5It4lq&_nc_ohc=p-JBbvyeeR4AX_UxVJJ&_nc_ht=scontent.frba5-1.fna&oh=00_AfBR6E5UR_0_F8Cvag3qtxpiJYoJMLTLPf4nFtQ9nl3UtQ&oe=63BCDED1', 'https://scontent.frba5-1.fna.fbcdn.net/v/t45.5328-4/314865639_5718095448246146_765610175623928384_n.jpg?stp=c0.156.403.403a_dst-jpg_p403x403&_nc_cat=104&ccb=1-7&_nc_sid=c48759&_nc_eui2=AeEZW4Qr6u34Cn-cCF_8T-YFCU2Jv1Yzc8IJTYm_VjNzwvmFXH9NJ8pNGkX-81WUezT-9aq2UXnY1_e7XHZlOwDU&_nc_ohc=7kT_6ljandwAX9ZllKi&_nc_ht=scontent.frba5-1.fna&oh=00_AfDzSC9UwvmJVj4pZ_uQPYBetsSm9nkO_Bn60YG2eaWnwA&oe=63BC5B54', 'https://scontent.frba5-1.fna.fbcdn.net/v/t45.5328-4/315545034_5810426245739768_4289091177202960062_n.jpg?stp=c0.66.403.403a_dst-jpg_p403x403&_nc_cat=100&ccb=1-7&_nc_sid=c48759&_nc_eui2=AeFDAL5R3GVyGBSIEtunYIasX4pwyj4rxqZfinDKPivGpt5rlzjKM3YUV2Mv-4HooD3FgUBi-iQqzfdIRW_kH__G&_nc_ohc=pJ9xh_10YE4AX_WSpRn&_nc_ht=scontent.frba5-1.fna&oh=00_AfCr2hQr7rAoVvdGHzx8X7lfVMcQt1L4iz1EyYRJ8FjT2A&oe=63BBB67D', 'https://scontent.frba5-1.fna.fbcdn.net/v/t45.5328-4/318079230_5870855542937769_4807164851788555517_n.jpg?stp=c0.67.403.403a_dst-jpg_p403x403&_nc_cat=107&ccb=1-7&_nc_sid=c48759&_nc_eui2=AeE-jVMA8MRbx7ApKRZWznO1DZzATTc4GkQNnMBNNzgaRLS1BPl6__rUoyEdp20cCrO0Ciq-13l4kGLWr2zsrxdK&_nc_ohc=8zo22nNA13sAX-kLmB8&_nc_ht=scontent.frba5-1.fna&oh=00_AfDBaF2uu1iEppDCgqFSFQzZUqq81XaAagrJa6SnGST3PA&oe=63BC6A8B', 'https://scontent.frba5-1.fna.fbcdn.net/v/t45.5328-4/321472613_5270176919750797_2292857060571498622_n.jpg?stp=c0.67.403.403a_dst-jpg_p403x403&_nc_cat=109&ccb=1-7&_nc_sid=c48759&_nc_eui2=AeHnjlCIW-pGiQxN5cwhCCrr0rou4biEjjPSui7huISOM2j3H1WelTcZ7Ab2uks4CyGuwq0YzVCfWTo7Z1zhTutW&_nc_ohc=7hsF5ffwv_0AX9ZtlCN&_nc_ht=scontent.frba5-1.fna&oh=00_AfAiG9ALt9N4dqwYnX4_enT7CDqwiqfjILTJIOIJlYUZRw&oe=63BD06E5', 'https://scontent.frba5-1.fna.fbcdn.net/v/t45.5328-4/313674149_5958448804176347_3519371141390424259_n.jpg?stp=c0.66.403.403a_dst-jpg_p403x403&_nc_cat=100&ccb=1-7&_nc_sid=c48759&_nc_eui2=AeEpOeqD_WVPQ6NPr0GWfAuLZDOeX7Sv71FkM55ftK_vUfg40d0fVf66ZoT_LJHGqvTaTkNE8TlvIZ1BKGhTqdws&_nc_ohc=YaT-JGEh2eUAX8fYTYN&_nc_ht=scontent.frba5-1.fna&oh=00_AfB9FChlSO0mOGQR1sOZDAyOJBtH5CqxDTIIeA9s-jEmuw&oe=63BC9BFE', 'https://scontent.frba5-1.fna.fbcdn.net/v/t45.5328-4/315493569_9314428511916069_5844285939887188551_n.jpg?stp=c0.66.403.403a_dst-jpg_p403x403&_nc_cat=101&ccb=1-7&_nc_sid=c48759&_nc_eui2=AeGrhg1y1Lw76x6EY3KA8OSHqzeKvL9gMw2rN4q8v2AzDRGMj9cw9A5U-_0zdw9yk8DhowBoFmE306hDgcnthFzU&_nc_ohc=3Ph7VaOtnLIAX9SQoVs&_nc_ht=scontent.frba5-1.fna&oh=00_AfAjjy0Mfk2L3zZz4vgDfOdtQ0vR-hgqsfKPAtolbdy_yA&oe=63BBB893', 'https://scontent.frba5-1.fna.fbcdn.net/v/t45.5328-4/316062646_5953330551383662_8237974265767584278_n.jpg?stp=c0.66.403.403a_dst-jpg_p403x403&_nc_cat=110&ccb=1-7&_nc_sid=c48759&_nc_eui2=AeERiuhvooA-ZTStJl6bZ0tNVtgNx0QzPwJW2A3HRDM_AlCplOeJOjQwJO7a3Z-3UNmwlYdBDr-Sjlt9qJz69-Ve&_nc_ohc=SeqzY5wYshwAX-FNiB0&_nc_ht=scontent.frba5-1.fna&oh=00_AfCZJjDjjPuQ3mgs7pxzU2iIuIfKmfOrUXZxxSvLLTJ2VQ&oe=63BB99FC', 'https://scontent.frba5-1.fna.fbcdn.net/v/t45.5328-4/317367778_5807892932622264_4889290130622214846_n.jpg?stp=c0.60.403.403a_dst-jpg_p403x403&_nc_cat=110&ccb=1-7&_nc_sid=c48759&_nc_eui2=AeEdYqh1ibcFwG8JEfA0nEK7QgQ56qq6Zk5CBDnqqrpmTq5WTMzk_wgWAN7l5nJUAxWJO3Kg3IaIXY2Xjd9ish0n&_nc_ohc=nGXF0HOLtVMAX_GpTK8&_nc_oc=AQkRYQqr2sfShLpPEX0W2WpwIuDu17EsBb0DfABDkEFPmuzGAI8VfZiU2tRAAclAujM&_nc_ht=scontent.frba5-1.fna&oh=00_AfDMTLtkD8-yOXSyKiG3QL7Z8jotWCI2_BpK4YnjkWVPaw&oe=63BD6C25', 'https://scontent.frba5-1.fna.fbcdn.net/v/t45.5328-4/320551519_5897141847012018_8399616788626644249_n.jpg?stp=c0.66.403.403a_dst-jpg_p403x403&_nc_cat=106&ccb=1-7&_nc_sid=c48759&_nc_eui2=AeFnoP6QBpfQnAbZ_3nTJp52R-hLQWFE1BlH6EtBYUTUGctp8j7UMPhW-CYbiApOd-nAqI80DbdXU4UHnOv1BbGe&_nc_ohc=0zgQyYEGiWQAX9MPLJj&_nc_ht=scontent.frba5-1.fna&oh=00_AfARzNpwmjV0Da3U8-MmIjXLvBK6iMCUd5Vn18Ccqk8ZNw&oe=63BC0D62', 'https://scontent.frba5-1.fna.fbcdn.net/v/t45.5328-4/315764845_6002615103116962_3715747690410726586_n.jpg?stp=c0.66.403.403a_dst-jpg_p403x403&_nc_cat=103&ccb=1-7&_nc_sid=c48759&_nc_eui2=AeEhSg6lkjKnyb05vSTz1hWmjNTmrLnSCP2M1OasudII_b98SsZZylVMP8jOesocG7y4cOmJtCumyCXgDumPfnbr&_nc_ohc=P687jfZL5TsAX_0oDu3&_nc_ht=scontent.frba5-1.fna&oh=00_AfBWPXRPH0vUqdwkgFZavOBmTStgBxQcvKrZ2WAybd5Egw&oe=63BC70ED', 'https://scontent.frba5-1.fna.fbcdn.net/v/t45.5328-4/315495145_5652035924846365_1727804403483657307_n.jpg?stp=c0.66.403.403a_dst-jpg_p403x403&_nc_cat=105&ccb=1-7&_nc_sid=c48759&_nc_eui2=AeFYel5X1lsjYapr4Xpk-PmBLdSDu-chvLYt1IO75yG8trn2mkbGW8h1IbmWAkoPLpyMzReh9mx6qSEO4okso5aw&_nc_ohc=NB9D_spIpPwAX8GbW_2&_nc_ht=scontent.frba5-1.fna&oh=00_AfA3AAH7gDfhp9vUuv0FMVEtN3wNM50BVmEg258eqL6p7g&oe=63BCFC6D', 'https://scontent.frba5-1.fna.fbcdn.net/v/t45.5328-4/321010654_6154270421274539_2110243499913101300_n.jpg?stp=c53.0.403.403a_dst-jpg_p403x403&_nc_cat=111&ccb=1-7&_nc_sid=c48759&_nc_eui2=AeFgc0Jkz4uxUb4XfOOj2RZSFwI7DXBos70XAjsNcGizvQouADNB4dsPtyYVfItcNllW2l5wMy4X0uA3x_b6Qpla&_nc_ohc=-KNXRh2rybsAX8C3Tr1&_nc_ht=scontent.frba5-1.fna&oh=00_AfBXKI4MQzaH5BRWMBnRvXl6Vil_ruJ1TnyGJSlyV9QU-Q&oe=63BC999D', 'https://scontent.frba5-1.fna.fbcdn.net/v/t45.5328-4/315235323_5793064440759102_5285416385365188878_n.jpg?stp=c0.113.403.403a_dst-jpg_p403x403&_nc_cat=105&ccb=1-7&_nc_sid=c48759&_nc_eui2=AeHjhZfIypPAo-ZkFImPufRS4WJMErFJh8XhYkwSsUmHxRyL86kSnLfbQCMNM1YsSIHo3Nz_Sz_sg1AqPS_J3wAt&_nc_ohc=ae-xPEtDQRUAX9bNznH&_nc_ht=scontent.frba5-1.fna&oh=00_AfDsI2c4yMJ1SR4uG-e8Lt5p-6ZXbsxYghAZHBmNpgiXCA&oe=63BD3F7A', 'https://scontent.frba5-1.fna.fbcdn.net/v/t45.5328-4/317195846_5704579382953180_5732245043157337478_n.jpg?stp=c0.62.403.403a_dst-jpg_p403x403&_nc_cat=104&ccb=1-7&_nc_sid=c48759&_nc_eui2=AeFGTtxuLnQM00BQURQx-5CdRhJo9S2WsmhGEmj1LZayaBwMaw8VYtB_8EzRyiVI8JXb02u8y8xU886KoZpvk3T-&_nc_ohc=ADs3UIW1vwgAX9CurIl&_nc_ht=scontent.frba5-1.fna&oh=00_AfBoKyUacRhrg0QdaLrQJ-u7sz7HQ5aBNWBGxhP9hJoR_w&oe=63BC0148', 'https://scontent.frba5-1.fna.fbcdn.net/v/t45.5328-4/312541646_8482216085185103_1273264350042829466_n.jpg?stp=c0.156.403.403a_dst-jpg_p403x403&_nc_cat=111&ccb=1-7&_nc_sid=c48759&_nc_eui2=AeHXh6N_u8hEjMrqpoH_rJd4uKPOrp2vCVC4o86una8JUOlpknoDtSTA1CRM8N2Ej-HjUQFUKKk72u6Y197yGljc&_nc_ohc=9MhhImMYxrEAX-cF4mN&_nc_ht=scontent.frba5-1.fna&oh=00_AfAOBzDd-J0rGN787cJSMqj4qmjjhe1CC684ulmsjeskyQ&oe=63BCE183', 'https://scontent.frba5-1.fna.fbcdn.net/v/t45.5328-4/322132538_6245551418812379_2601865888645595862_n.jpg?stp=c0.66.403.403a_dst-jpg_p403x403&_nc_cat=102&ccb=1-7&_nc_sid=c48759&_nc_eui2=AeGiPpaNcOV9P3Ombt9BmQZgvn8q8IOv2hu-fyrwg6_aGx9mJ_XuX-awos0UzuIEM4VdwPqeSFPyhr4kprOby5dC&_nc_ohc=S5xrhu5vVRYAX9cCeW9&_nc_ht=scontent.frba5-1.fna&oh=00_AfCxRLf10VM5DOQy7vGt2g4bLSPx-g59U2wOYSdsg8DEXQ&oe=63BB8619', 'https://scontent.frba5-1.fna.fbcdn.net/v/t45.5328-4/314353233_5941944535856502_1062296943005778926_n.jpg?stp=c0.67.403.403a_dst-jpg_p403x403&_nc_cat=105&ccb=1-7&_nc_sid=c48759&_nc_eui2=AeHC2OkI1tbye3N6ay12h54emWfv1JIONJiZZ-_Ukg40mKcHNrsGqNv6mvUTa91bQnQZtl20MaNiW63ZBdLzYH1p&_nc_ohc=oP1DP9xItA0AX8N_n-Y&_nc_ht=scontent.frba5-1.fna&oh=00_AfC93GPhKmGD7-Roi0PpM4Xa84R4WsyJFdNuxw9BLqZfQQ&oe=63BC1B4E', 'https://scontent.frba5-1.fna.fbcdn.net/v/t45.5328-4/321277116_5762392367179599_6309687512903035520_n.jpg?stp=c0.156.403.403a_dst-jpg_p403x403&_nc_cat=111&ccb=1-7&_nc_sid=c48759&_nc_eui2=AeEKwmxoQtnIe6dloFtnAvedY497DFUYIW9jj3sMVRghb0-VfMjBavFJR18yVDe9ucawZXjiNBnoF1M47cP7MR7O&_nc_ohc=0nr2WUGrj_EAX8wwmo-&_nc_ht=scontent.frba5-1.fna&oh=00_AfDRUjZ77qb7Zwyc3JuNxKR1P0pvPMSNPxvh-dJQfpm3Og&oe=63BC81B1', 'https://scontent.frba5-1.fna.fbcdn.net/v/t45.5328-4/305748945_8564494113590521_3577199680695777130_n.jpg?stp=c0.66.403.403a_dst-jpg_p403x403&_nc_cat=105&ccb=1-7&_nc_sid=c48759&_nc_eui2=AeHvPXUxbfwr8m5-XJHmVchCwPxKMJuUk0PA_Eowm5STQ853Y30fIdlu3rmJ9tu1D5r3-0nh1L8VrgdH49Xcjve-&_nc_ohc=kjGN45zrv-8AX-YOJWh&_nc_ht=scontent.frba5-1.fna&oh=00_AfDx8QLnpk0-iS38HUzAvYDNB4UhaESWQYdqvZhKXWOHYg&oe=63BC8718', 'https://scontent.frba5-1.fna.fbcdn.net/v/t45.5328-4/320714832_5872851706114646_4241197885830085260_n.jpg?stp=c0.67.403.403a_dst-jpg_p403x403&_nc_cat=105&ccb=1-7&_nc_sid=c48759&_nc_eui2=AeG-gFvTxTqfaOr290V6Ok6pbVf1fYSCNrdtV_V9hII2tyEx1WbjxsM5-Y6Dc1huj-NY9m8rZE_g2sCWNf1ziGTD&_nc_ohc=7RmCNPLPoxUAX-byNPx&_nc_ht=scontent.frba5-1.fna&oh=00_AfAAmjZzQ2SNaH_doOzxSCtzPq3NLXv_OL3BW6B1sIFdaw&oe=63BD3A37', 'https://scontent.frba5-1.fna.fbcdn.net/v/t45.5328-4/312745645_6257380801013898_7834572009992237590_n.jpg?stp=c0.66.403.403a_dst-jpg_p403x403&_nc_cat=107&ccb=1-7&_nc_sid=c48759&_nc_eui2=AeEK_MwsUGcWUVq6f2tZWAjscxWR6ZbQewJzFZHpltB7AoulrehSkW65TRWrgIrKFrUQt_eWYILSl754mUcGMfIp&_nc_ohc=wNATEQHkBYcAX_N_z3j&_nc_ht=scontent.frba5-1.fna&oh=00_AfCN_S0PlpwXHO6voyD0-F_O_hkLrFJOtoEOKKzL2KwyPA&oe=63BC219E', 'https://scontent.frba5-1.fna.fbcdn.net/v/t45.5328-4/317111478_5825544904202963_8720738282601075080_n.jpg?stp=c0.48.403.403a_dst-jpg_p403x403&_nc_cat=111&ccb=1-7&_nc_sid=c48759&_nc_eui2=AeEnMv94tSCG5Yg9wwcsHvf6tigSd6AqmTS2KBJ3oCqZNHL4OfhkljQow9f6O7fhHxfol8H3zAt6H-aT8VjSbAAU&_nc_ohc=yavAYHtkJkAAX9FBUfF&_nc_ht=scontent.frba5-1.fna&oh=00_AfBx9eredFNpL8XzG66rQPOcwE-LTg3G4mdDp-iWZmmtcQ&oe=63BCBBEF', 'https://scontent.frba5-1.fna.fbcdn.net/v/t45.5328-4/312230147_8390410977698528_696048698953804537_n.jpg?stp=c65.0.395.395a_dst-jpg_p526x395&_nc_cat=102&ccb=1-7&_nc_sid=c48759&_nc_eui2=AeFA3Qfg_5Ise2JGvz-bEZya8UP-4dAPLR_xQ_7h0A8tHwGfGxbbMPEO2Iv5VpsfX9_M5WyV6g-CO_9e4f0egFMq&_nc_ohc=pZSCmq80yDUAX8KZjLG&_nc_ht=scontent.frba5-1.fna&oh=00_AfBFtrB6Av-cGWDzlAKbvW7iiHBWN6aTNVrZ35f8whW1cg&oe=63BD1952', 'https://scontent.frba5-1.fna.fbcdn.net/v/t45.5328-4/316738170_5800247710054600_9099694903673769552_n.jpg?stp=c0.66.403.403a_dst-jpg_p403x403&_nc_cat=109&ccb=1-7&_nc_sid=c48759&_nc_eui2=AeHsvEn6aHJYO_v6hSmVcKFcXxNOqgydURdfE06qDJ1RF688gFd-bGnRKvh_DNpQrL-R-EopdSdBxChgno7E2bZH&_nc_ohc=0GQIoSZF0yQAX832n7b&tn=Mipk_z6z4QbvVeTd&_nc_ht=scontent.frba5-1.fna&oh=00_AfBzZfm2hlr3J72HlDIW-T5k5_3cIiTNuevNlqGPBkzi2w&oe=63BD37CA', 'https://scontent.frba5-1.fna.fbcdn.net/v/t45.5328-4/313079164_5652461098195234_2403336282176509043_n.jpg?stp=c0.66.403.403a_dst-jpg_p403x403&_nc_cat=100&ccb=1-7&_nc_sid=c48759&_nc_eui2=AeHOaIlc2-e7iPjWEGTudn_i9L5ZYIj-k3b0vllgiP6TdvtnZSusdHKseQSQWUoO7FGl7a2Zw-BYjYyo8yfyq2BW&_nc_ohc=HPB0LqY_tMAAX9I9ywk&_nc_ht=scontent.frba5-1.fna&oh=00_AfAFzgL9DCoq6uXiCYeVY9Xbx2fxRQLbJUvB6aXS9citSw&oe=63BCE7A8', 'https://scontent.frba5-1.fna.fbcdn.net/v/t45.5328-4/315858025_6171536386190259_856341273701142648_n.jpg?stp=c0.66.403.403a_dst-jpg_p403x403&_nc_cat=105&ccb=1-7&_nc_sid=c48759&_nc_eui2=AeGzZq-sMddubfGf8jZVGN7q78xMkSGEqkTvzEyRIYSqRCZGPd1kV3YIPjjac1qrzvjSLvc0C_ehIeCbAVNV4_xE&_nc_ohc=Uy-sd78-7mwAX9XlzAw&_nc_ht=scontent.frba5-1.fna&oh=00_AfA73Yhl7Kt4c_-HDcaPDtAN0JhAICr4p_aDhsx40c1P9w&oe=63BB8F46', 'https://scontent.frba5-1.fna.fbcdn.net/v/t45.5328-4/315495160_5413872308739737_2025797445568679047_n.jpg?stp=c0.66.403.403a_dst-jpg_p403x403&_nc_cat=107&ccb=1-7&_nc_sid=c48759&_nc_eui2=AeG5sku4Bf2c5rNAA9eRjKOLALu17Scqo1oAu7XtJyqjWu7I1wbFDG8_YgKVAXK8fIp2zlG4eWXGSfvfyIPgl5xM&_nc_ohc=bnQlBuVykFYAX-3a19K&_nc_ht=scontent.frba5-1.fna&oh=00_AfBGQcGewxlBRv-Q6VaSXjoS1mt0SVPi5m73Q3qaTtx9Nw&oe=63BCD209', 'https://scontent.frba5-1.fna.fbcdn.net/v/t45.5328-4/320678731_6060288660677322_8942719996415659476_n.jpg?stp=c0.73.394.394a_dst-jpg_p180x540&_nc_cat=108&ccb=1-7&_nc_sid=c48759&_nc_eui2=AeGBpngZlKzAlZAtjD-dfek0dxKoNlI_l_B3Eqg2Uj-X8OMGMWD1IwLX8A_1KH2TlNTTl4UNhX18o8LQoV9hmuB5&_nc_ohc=zHYmEPz4qsoAX8O1qSV&_nc_ht=scontent.frba5-1.fna&oh=00_AfBieTbT_DVE7S3FTYzmEdeVy4mDapz85-zoLluxIHri3A&oe=63BBE5BD', 'https://scontent.frba5-1.fna.fbcdn.net/v/t45.5328-4/312506649_5644186845658696_339272267988247444_n.jpg?stp=c0.66.403.403a_dst-jpg_p403x403&_nc_cat=101&ccb=1-7&_nc_sid=c48759&_nc_eui2=AeFlz3n-IfZWgUzSvo21tm-Si00-aYS4FHSLTT5phLgUdCcR52iyHBw2k-0O3tp92WD6O9dWuYPWUoNcI1oheFQD&_nc_ohc=ezpY_pfCJPkAX8gYZSh&_nc_ht=scontent.frba5-1.fna&oh=00_AfByF2wHUr1DLcASdOE9ow8UokGa3kJM57lrCJPmLECJTQ&oe=63BB8DC7', 'https://scontent.frba5-1.fna.fbcdn.net/v/t45.5328-4/316367814_5833116010098898_5361260133897305908_n.jpg?stp=c0.66.403.403a_dst-jpg_p403x403&_nc_cat=105&ccb=1-7&_nc_sid=c48759&_nc_eui2=AeFNzHHlyapxGgxB2KG011KFxRlkX291Kf7FGWRfb3Up_smwZr6L-0Y9HKgw-YUHjwSI73ivl1zH76Af4FcAp8aH&_nc_ohc=e-hxhI1Ja3MAX8TxMTP&_nc_ht=scontent.frba5-1.fna&oh=00_AfBjln-LLFoh7FXLHSm59Dtl3rSiszCtxf5LZPp1TbKhdw&oe=63BC1CD2', 'https://scontent.frba5-1.fna.fbcdn.net/v/t45.5328-4/320314360_5772642972856223_525479311103733243_n.jpg?stp=c0.7.403.403a_dst-jpg_p403x403&_nc_cat=102&ccb=1-7&_nc_sid=c48759&_nc_eui2=AeFhm7YjVzaYbWDY742dXn45sjCDrrDaEGWyMIOusNoQZe_SFTCSRiXTaJsXJOUXMchyu41Na8sF3Ukug2Balkax&_nc_ohc=I6vrvJRMegMAX-BgSP_&_nc_ht=scontent.frba5-1.fna&oh=00_AfBh24DeVTphsdSunFRoMFovHHgXgNlUvltM7_B0wlUsiQ&oe=63BC8E5E', 'https://scontent.frba5-1.fna.fbcdn.net/v/t45.5328-4/319077620_5718624544890040_1957543632637819946_n.jpg?stp=c0.220.403.403a_dst-jpg_p403x403&_nc_cat=104&ccb=1-7&_nc_sid=c48759&_nc_eui2=AeGHddXyLOVOoBFqVL1WORFcG5Oc4MuZSLYbk5zgy5lItru1h2nRJwPS2GLB3D0iAkxMhRvRnc5zXpK04j7ZY9gk&_nc_ohc=qTqKs5uH0_wAX9vGNZI&_nc_ht=scontent.frba5-1.fna&oh=00_AfBi29BLlmLhHLm6JG-Hzb93qrKJJr-gSkhcVcgkau3L2A&oe=63BBA97D', 'https://scontent.frba5-1.fna.fbcdn.net/v/t45.5328-4/311442215_5641515859248281_2566894201854648709_n.jpg?stp=c0.66.403.403a_dst-jpg_p403x403&_nc_cat=100&ccb=1-7&_nc_sid=c48759&_nc_eui2=AeGLPd4w8fQZT0PpON4GVgzzFrU4BuQ0IsEWtTgG5DQiwVvolysh7u3XdDtHwrQT-S5CgErqrq7tUNsjox8lyGfm&_nc_ohc=chDPv3PORsEAX-rEfMw&_nc_ht=scontent.frba5-1.fna&oh=00_AfCFcm-k6w-vxhAmnQv1Lilc6mBGi_ooxXo4uw91YCoE6w&oe=63BD3682', 'https://scontent.frba5-1.fna.fbcdn.net/v/t45.5328-4/313394465_5818728394828992_8237754337027349941_n.jpg?stp=c0.66.403.403a_dst-jpg_p403x403&_nc_cat=104&ccb=1-7&_nc_sid=c48759&_nc_eui2=AeGHPr1m09GnoMtMAGFSn3BAb5Nd8z3vqtRvk13zPe-q1E8EOLs_VKL65TLbd28PMpUD5BejAojfp94nIUX0mTrp&_nc_ohc=Ka7KAfgYbxYAX9t2CkY&_nc_ht=scontent.frba5-1.fna&oh=00_AfAX52AHZosUxveKKwf0jqupeSyt4p5Gzvee8xii1hlKKA&oe=63BBAF6F', 'https://scontent.frba5-1.fna.fbcdn.net/v/t45.5328-4/322667551_5545822792182252_8741093849500261951_n.jpg?stp=c0.48.403.403a_dst-jpg_p403x403&_nc_cat=106&ccb=1-7&_nc_sid=c48759&_nc_eui2=AeFt4qSss2m4Nn77lWRCZbJlPWLkxJvZDRw9YuTEm9kNHLMvV5UICl54EWIsswcCMQggfFbb7OkwzdjkKbetgJFH&_nc_ohc=g0beXbVwFS0AX84Zu2P&_nc_ht=scontent.frba5-1.fna&oh=00_AfBPdbZrOlNX22dNPYE1xmpQmZMK99y1jnBFq3bUdYFuyg&oe=63BC07EE', 'https://scontent.frba5-1.fna.fbcdn.net/v/t45.5328-4/314716923_5974445035932002_1577052697687716547_n.jpg?stp=c0.66.403.403a_dst-jpg_p403x403&_nc_cat=105&ccb=1-7&_nc_sid=c48759&_nc_eui2=AeEQnWFrIZH_7JeBab5a5tAfos7bl93DV62iztuX3cNXrdlxh9esdtS8g7PE9dMQTZu8tWh61ed6QfQIuzvOCOCj&_nc_ohc=gbZq7F0yEDMAX897f6m&_nc_ht=scontent.frba5-1.fna&oh=00_AfA25cKJjZPw8zzK5jHpfcgj6fUrIUDelmy8GTzqyV_dNw&oe=63BD4402', 'https://scontent.frba5-1.fna.fbcdn.net/v/t45.5328-4/316325096_5984392614985288_3885019355306852873_n.jpg?stp=c0.66.403.403a_dst-jpg_p403x403&_nc_cat=105&ccb=1-7&_nc_sid=c48759&_nc_eui2=AeGOKvc6G7YxJVZuMfWgiunZV3MMrt7QlYNXcwyu3tCVg9IiJDnOxkyX9nO2bTNoHTyh7oxdMa-xpWfWACGU7sTp&_nc_ohc=wP6aieGIMCwAX948Kja&_nc_ht=scontent.frba5-1.fna&oh=00_AfBbw1DY72nfenzlC0cCYs-YSQ8am5VQU5BjP1b-uqDe9Q&oe=63BCD9E7', 'https://scontent.frba5-1.fna.fbcdn.net/v/t45.5328-4/316738170_5767836039970752_480742306477263898_n.jpg?stp=c65.0.395.395a_dst-jpg_p526x395&_nc_cat=105&ccb=1-7&_nc_sid=c48759&_nc_eui2=AeE_O6hPgr19RmpghcGQ_Zz7GQliepSVu9sZCWJ6lJW727LKZeB2XVD8eeiucEIi_EOgW-v0q_qLXL-9InyKMs2V&_nc_ohc=WiDQckEA0l8AX_V4qdp&_nc_ht=scontent.frba5-1.fna&oh=00_AfDnNuXqM8Fj4cDuGbOueerM2sWAKu-oxFJfMbECGoBsUA&oe=63BD3826', 'https://scontent.frba5-1.fna.fbcdn.net/v/t45.5328-4/306515636_5853003478119837_835742571760465776_n.jpg?stp=c0.156.403.403a_dst-jpg_p403x403&_nc_cat=109&ccb=1-7&_nc_sid=c48759&_nc_eui2=AeGafihD0cYZ-u-oAU7-iGPwj5ZFJH-p3EWPlkUkf6ncRdq5A7DRBLrjSojxKAjvMVaMcoKvmQedqfZzZ7f-oTMW&_nc_ohc=LoY-gbIrELQAX_7vJUo&_nc_oc=AQnRBE6mZ6OyBKAX2lXuM7TYATYP_u4f4R_CjdQvX3WXFIdP7viC6qE16V6riS0a-gk&tn=Mipk_z6z4QbvVeTd&_nc_ht=scontent.frba5-1.fna&oh=00_AfArWVxVR8oBjNuqq33OoWJnlQH-NvudKY95UOF0W3VTqQ&oe=63BD4E20', 'https://scontent.frba5-1.fna.fbcdn.net/v/t45.5328-4/320870290_6107141695997609_7887328668617566882_n.jpg?stp=c0.67.403.403a_dst-jpg_p403x403&_nc_cat=110&ccb=1-7&_nc_sid=c48759&_nc_eui2=AeHgQmbeRP0Ck8ua2O3RhuWJ36scdqIIFsffqxx2oggWx1lsfDKgdr_VyY9ATEwDnTIr4ITncVhypyYSFMpfqI2T&_nc_ohc=mvOqVAjUhW0AX_DlqwI&tn=Mipk_z6z4QbvVeTd&_nc_ht=scontent.frba5-1.fna&oh=00_AfCnFoBS5FG-51ElthKSX9cWr57W9US4ZmGMYiWehzhQNA&oe=63BC5C8B', 'https://scontent.frba5-1.fna.fbcdn.net/v/t45.5328-4/312915619_6316568835049435_7906514814808508512_n.jpg?stp=c0.246.403.403a_dst-jpg_p403x403&_nc_cat=100&ccb=1-7&_nc_sid=c48759&_nc_eui2=AeHxOCdqc6HDaxYEv--L4Hmzb1KncYCzRgtvUqdxgLNGC8k6A4zylNuJmtNRrukXFPeXTxrJg0TeibjHy7E_74Ql&_nc_ohc=ftMFbwssUt8AX9gZzja&_nc_oc=AQkecTrwPmq_0PZTifNSUzgX4MUDqb1XC26KVG_qtf5ytakChnA-qJe4mbt19RAm9RU&_nc_ht=scontent.frba5-1.fna&oh=00_AfCd2VkJTqXpVCCsyykSXPelFloCZbFSlL7DZ3LBMrDRQQ&oe=63BB9A0F', 'https://scontent.frba5-1.fna.fbcdn.net/v/t45.5328-4/310111146_6176984762312986_2256283093783818785_n.jpg?stp=c0.42.403.403a_dst-jpg_p403x403&_nc_cat=106&ccb=1-7&_nc_sid=c48759&_nc_eui2=AeEp_2dB1UsYPO-UHumWE6EsuUQS8Twoe4e5RBLxPCh7h-OmjNLhbONX5pi4GXjOwIuJmu3pes_5_m4AYo4s_6i3&_nc_ohc=TOoXm5N4CycAX_XyKrA&_nc_ht=scontent.frba5-1.fna&oh=00_AfD15XPFlF9dTkaxqrJtJs1nKQDUNSrudz3twOf9oRG9lQ&oe=63BC9C58', 'https://scontent.frba5-1.fna.fbcdn.net/v/t45.5328-4/315252043_6069591189741108_3912923964137205945_n.jpg?stp=c0.246.403.403a_dst-jpg_p403x403&_nc_cat=109&ccb=1-7&_nc_sid=c48759&_nc_eui2=AeHBP3SjG6fXedbkbeaPsIBOqOmYgSYSM0mo6ZiBJhIzSZ4mBPPNmXPNe5Blqb5TzKMSVMg_EXPiFN3krJjhRNMj&_nc_ohc=_6fZiDvy7PwAX_zkWCd&_nc_ht=scontent.frba5-1.fna&oh=00_AfD1Z45feNX4IBfk61_f5_jxqn2YfKOzGKAV-xiQuTgxEQ&oe=63BC9233', 'https://scontent.frba5-1.fna.fbcdn.net/v/t45.5328-4/312599265_5924472814279332_1836043389467492142_n.jpg?stp=c0.66.403.403a_dst-jpg_p403x403&_nc_cat=105&ccb=1-7&_nc_sid=c48759&_nc_eui2=AeFdG7GyHr8utMxdWjRsi4IRRUJP0iMT-sVFQk_SIxP6xagTWc2sVabPIidQWfSaKRLXR7vlXU79H6razmJo-c21&_nc_ohc=nRJgYd77P2QAX8tkVYG&tn=Mipk_z6z4QbvVeTd&_nc_ht=scontent.frba5-1.fna&oh=00_AfCWCnAEwgMPn5buAq-QdNu-RC0gXHlZqqmCv8CrkB-x0g&oe=63BD17A5', 'https://scontent.frba5-1.fna.fbcdn.net/v/t45.5328-4/314682096_5208084522624954_7540602419729221492_n.jpg?stp=c0.59.403.403a_dst-jpg_p403x403&_nc_cat=111&ccb=1-7&_nc_sid=c48759&_nc_eui2=AeFPtLT83oLCTI32F44jGJEK03ygTeRQJ0HTfKBN5FAnQZoBbqJPKHyh951sYb2MK7HXgcUGxu8Tm90gPj1xSirK&_nc_ohc=ez3mvemy5foAX9lWoo4&tn=Mipk_z6z4QbvVeTd&_nc_ht=scontent.frba5-1.fna&oh=00_AfDkwmrBHRVXwvC9GiJ8-wTDXNdqdg0Wfrj4ONcP110sNA&oe=63BD1A85', 'https://scontent.frba5-1.fna.fbcdn.net/v/t45.5328-4/315538306_6065923696764591_3807851541254138212_n.jpg?stp=c0.191.403.403a_dst-jpg_p403x403&_nc_cat=108&ccb=1-7&_nc_sid=c48759&_nc_eui2=AeE9qUfE6GpiloFHQ_HlXqb6Ry0o7sul4TtHLSjuy6XhO3WjjFjKp15vjMY-6cHOFf2Lh8iqqcU_JHiKeGTuZaP1&_nc_ohc=AQzax9vNUeYAX9Annji&_nc_ht=scontent.frba5-1.fna&oh=00_AfAcNpXbxNs2gMYwVsIunU6A9EmHUeGiaQl9-wnfsUfA4Q&oe=63BBFB41', 'https://scontent.frba5-1.fna.fbcdn.net/v/t45.5328-4/315584883_5773481282728496_9161908886071676551_n.jpg?stp=c0.66.403.403a_dst-jpg_p403x403&_nc_cat=110&ccb=1-7&_nc_sid=c48759&_nc_eui2=AeFYkY9msHG5wSsdmDgUYnfx48A2FHcIbNLjwDYUdwhs0tPDNvqduqQ-iRQgtEky0N_3RdbCxaERSfmJoM5It4lq&_nc_ohc=p-JBbvyeeR4AX_UxVJJ&_nc_ht=scontent.frba5-1.fna&oh=00_AfBR6E5UR_0_F8Cvag3qtxpiJYoJMLTLPf4nFtQ9nl3UtQ&oe=63BCDED1', 'https://scontent.frba5-1.fna.fbcdn.net/v/t45.5328-4/314865639_5718095448246146_765610175623928384_n.jpg?stp=c0.156.403.403a_dst-jpg_p403x403&_nc_cat=104&ccb=1-7&_nc_sid=c48759&_nc_eui2=AeEZW4Qr6u34Cn-cCF_8T-YFCU2Jv1Yzc8IJTYm_VjNzwvmFXH9NJ8pNGkX-81WUezT-9aq2UXnY1_e7XHZlOwDU&_nc_ohc=7kT_6ljandwAX9ZllKi&_nc_ht=scontent.frba5-1.fna&oh=00_AfDzSC9UwvmJVj4pZ_uQPYBetsSm9nkO_Bn60YG2eaWnwA&oe=63BC5B54', 'https://scontent.frba5-1.fna.fbcdn.net/v/t45.5328-4/315545034_5810426245739768_4289091177202960062_n.jpg?stp=c0.66.403.403a_dst-jpg_p403x403&_nc_cat=100&ccb=1-7&_nc_sid=c48759&_nc_eui2=AeFDAL5R3GVyGBSIEtunYIasX4pwyj4rxqZfinDKPivGpt5rlzjKM3YUV2Mv-4HooD3FgUBi-iQqzfdIRW_kH__G&_nc_ohc=pJ9xh_10YE4AX_WSpRn&_nc_ht=scontent.frba5-1.fna&oh=00_AfCr2hQr7rAoVvdGHzx8X7lfVMcQt1L4iz1EyYRJ8FjT2A&oe=63BBB67D', 'https://scontent.frba5-1.fna.fbcdn.net/v/t45.5328-4/318079230_5870855542937769_4807164851788555517_n.jpg?stp=c0.67.403.403a_dst-jpg_p403x403&_nc_cat=107&ccb=1-7&_nc_sid=c48759&_nc_eui2=AeE-jVMA8MRbx7ApKRZWznO1DZzATTc4GkQNnMBNNzgaRLS1BPl6__rUoyEdp20cCrO0Ciq-13l4kGLWr2zsrxdK&_nc_ohc=8zo22nNA13sAX-kLmB8&_nc_ht=scontent.frba5-1.fna&oh=00_AfDBaF2uu1iEppDCgqFSFQzZUqq81XaAagrJa6SnGST3PA&oe=63BC6A8B', 'https://scontent.frba5-1.fna.fbcdn.net/v/t45.5328-4/321472613_5270176919750797_2292857060571498622_n.jpg?stp=c0.67.403.403a_dst-jpg_p403x403&_nc_cat=109&ccb=1-7&_nc_sid=c48759&_nc_eui2=AeHnjlCIW-pGiQxN5cwhCCrr0rou4biEjjPSui7huISOM2j3H1WelTcZ7Ab2uks4CyGuwq0YzVCfWTo7Z1zhTutW&_nc_ohc=7hsF5ffwv_0AX9ZtlCN&_nc_ht=scontent.frba5-1.fna&oh=00_AfAiG9ALt9N4dqwYnX4_enT7CDqwiqfjILTJIOIJlYUZRw&oe=63BD06E5', 'https://scontent.frba5-1.fna.fbcdn.net/v/t45.5328-4/313674149_5958448804176347_3519371141390424259_n.jpg?stp=c0.66.403.403a_dst-jpg_p403x403&_nc_cat=100&ccb=1-7&_nc_sid=c48759&_nc_eui2=AeEpOeqD_WVPQ6NPr0GWfAuLZDOeX7Sv71FkM55ftK_vUfg40d0fVf66ZoT_LJHGqvTaTkNE8TlvIZ1BKGhTqdws&_nc_ohc=YaT-JGEh2eUAX8fYTYN&_nc_ht=scontent.frba5-1.fna&oh=00_AfB9FChlSO0mOGQR1sOZDAyOJBtH5CqxDTIIeA9s-jEmuw&oe=63BC9BFE', 'https://scontent.frba5-1.fna.fbcdn.net/v/t45.5328-4/315493569_9314428511916069_5844285939887188551_n.jpg?stp=c0.66.403.403a_dst-jpg_p403x403&_nc_cat=101&ccb=1-7&_nc_sid=c48759&_nc_eui2=AeGrhg1y1Lw76x6EY3KA8OSHqzeKvL9gMw2rN4q8v2AzDRGMj9cw9A5U-_0zdw9yk8DhowBoFmE306hDgcnthFzU&_nc_ohc=3Ph7VaOtnLIAX9SQoVs&_nc_ht=scontent.frba5-1.fna&oh=00_AfAjjy0Mfk2L3zZz4vgDfOdtQ0vR-hgqsfKPAtolbdy_yA&oe=63BBB893', 'https://scontent.frba5-1.fna.fbcdn.net/v/t45.5328-4/316062646_5953330551383662_8237974265767584278_n.jpg?stp=c0.66.403.403a_dst-jpg_p403x403&_nc_cat=110&ccb=1-7&_nc_sid=c48759&_nc_eui2=AeERiuhvooA-ZTStJl6bZ0tNVtgNx0QzPwJW2A3HRDM_AlCplOeJOjQwJO7a3Z-3UNmwlYdBDr-Sjlt9qJz69-Ve&_nc_ohc=SeqzY5wYshwAX-FNiB0&_nc_ht=scontent.frba5-1.fna&oh=00_AfCZJjDjjPuQ3mgs7pxzU2iIuIfKmfOrUXZxxSvLLTJ2VQ&oe=63BB99FC', 'https://scontent.frba5-1.fna.fbcdn.net/v/t45.5328-4/317367778_5807892932622264_4889290130622214846_n.jpg?stp=c0.60.403.403a_dst-jpg_p403x403&_nc_cat=110&ccb=1-7&_nc_sid=c48759&_nc_eui2=AeEdYqh1ibcFwG8JEfA0nEK7QgQ56qq6Zk5CBDnqqrpmTq5WTMzk_wgWAN7l5nJUAxWJO3Kg3IaIXY2Xjd9ish0n&_nc_ohc=nGXF0HOLtVMAX_GpTK8&_nc_oc=AQkRYQqr2sfShLpPEX0W2WpwIuDu17EsBb0DfABDkEFPmuzGAI8VfZiU2tRAAclAujM&_nc_ht=scontent.frba5-1.fna&oh=00_AfDMTLtkD8-yOXSyKiG3QL7Z8jotWCI2_BpK4YnjkWVPaw&oe=63BD6C25', 'https://scontent.frba5-1.fna.fbcdn.net/v/t45.5328-4/320551519_5897141847012018_8399616788626644249_n.jpg?stp=c0.66.403.403a_dst-jpg_p403x403&_nc_cat=106&ccb=1-7&_nc_sid=c48759&_nc_eui2=AeFnoP6QBpfQnAbZ_3nTJp52R-hLQWFE1BlH6EtBYUTUGctp8j7UMPhW-CYbiApOd-nAqI80DbdXU4UHnOv1BbGe&_nc_ohc=0zgQyYEGiWQAX9MPLJj&_nc_ht=scontent.frba5-1.fna&oh=00_AfARzNpwmjV0Da3U8-MmIjXLvBK6iMCUd5Vn18Ccqk8ZNw&oe=63BC0D62', 'https://scontent.frba5-1.fna.fbcdn.net/v/t45.5328-4/315764845_6002615103116962_3715747690410726586_n.jpg?stp=c0.66.403.403a_dst-jpg_p403x403&_nc_cat=103&ccb=1-7&_nc_sid=c48759&_nc_eui2=AeEhSg6lkjKnyb05vSTz1hWmjNTmrLnSCP2M1OasudII_b98SsZZylVMP8jOesocG7y4cOmJtCumyCXgDumPfnbr&_nc_ohc=P687jfZL5TsAX_0oDu3&_nc_ht=scontent.frba5-1.fna&oh=00_AfBWPXRPH0vUqdwkgFZavOBmTStgBxQcvKrZ2WAybd5Egw&oe=63BC70ED', 'https://scontent.frba5-1.fna.fbcdn.net/v/t45.5328-4/315495145_5652035924846365_1727804403483657307_n.jpg?stp=c0.66.403.403a_dst-jpg_p403x403&_nc_cat=105&ccb=1-7&_nc_sid=c48759&_nc_eui2=AeFYel5X1lsjYapr4Xpk-PmBLdSDu-chvLYt1IO75yG8trn2mkbGW8h1IbmWAkoPLpyMzReh9mx6qSEO4okso5aw&_nc_ohc=NB9D_spIpPwAX8GbW_2&_nc_ht=scontent.frba5-1.fna&oh=00_AfA3AAH7gDfhp9vUuv0FMVEtN3wNM50BVmEg258eqL6p7g&oe=63BCFC6D', 'https://scontent.frba5-1.fna.fbcdn.net/v/t45.5328-4/321010654_6154270421274539_2110243499913101300_n.jpg?stp=c53.0.403.403a_dst-jpg_p403x403&_nc_cat=111&ccb=1-7&_nc_sid=c48759&_nc_eui2=AeFgc0Jkz4uxUb4XfOOj2RZSFwI7DXBos70XAjsNcGizvQouADNB4dsPtyYVfItcNllW2l5wMy4X0uA3x_b6Qpla&_nc_ohc=-KNXRh2rybsAX8C3Tr1&_nc_ht=scontent.frba5-1.fna&oh=00_AfBXKI4MQzaH5BRWMBnRvXl6Vil_ruJ1TnyGJSlyV9QU-Q&oe=63BC999D', 'https://scontent.frba5-1.fna.fbcdn.net/v/t45.5328-4/315235323_5793064440759102_5285416385365188878_n.jpg?stp=c0.113.403.403a_dst-jpg_p403x403&_nc_cat=105&ccb=1-7&_nc_sid=c48759&_nc_eui2=AeHjhZfIypPAo-ZkFImPufRS4WJMErFJh8XhYkwSsUmHxRyL86kSnLfbQCMNM1YsSIHo3Nz_Sz_sg1AqPS_J3wAt&_nc_ohc=ae-xPEtDQRUAX9bNznH&_nc_ht=scontent.frba5-1.fna&oh=00_AfDsI2c4yMJ1SR4uG-e8Lt5p-6ZXbsxYghAZHBmNpgiXCA&oe=63BD3F7A', 'https://scontent.frba5-1.fna.fbcdn.net/v/t45.5328-4/317195846_5704579382953180_5732245043157337478_n.jpg?stp=c0.62.403.403a_dst-jpg_p403x403&_nc_cat=104&ccb=1-7&_nc_sid=c48759&_nc_eui2=AeFGTtxuLnQM00BQURQx-5CdRhJo9S2WsmhGEmj1LZayaBwMaw8VYtB_8EzRyiVI8JXb02u8y8xU886KoZpvk3T-&_nc_ohc=ADs3UIW1vwgAX9CurIl&_nc_ht=scontent.frba5-1.fna&oh=00_AfBoKyUacRhrg0QdaLrQJ-u7sz7HQ5aBNWBGxhP9hJoR_w&oe=63BC0148', 'https://scontent.frba5-1.fna.fbcdn.net/v/t45.5328-4/312541646_8482216085185103_1273264350042829466_n.jpg?stp=c0.156.403.403a_dst-jpg_p403x403&_nc_cat=111&ccb=1-7&_nc_sid=c48759&_nc_eui2=AeHXh6N_u8hEjMrqpoH_rJd4uKPOrp2vCVC4o86una8JUOlpknoDtSTA1CRM8N2Ej-HjUQFUKKk72u6Y197yGljc&_nc_ohc=9MhhImMYxrEAX-cF4mN&_nc_ht=scontent.frba5-1.fna&oh=00_AfAOBzDd-J0rGN787cJSMqj4qmjjhe1CC684ulmsjeskyQ&oe=63BCE183', 'https://scontent.frba5-1.fna.fbcdn.net/v/t45.5328-4/322132538_6245551418812379_2601865888645595862_n.jpg?stp=c0.66.403.403a_dst-jpg_p403x403&_nc_cat=102&ccb=1-7&_nc_sid=c48759&_nc_eui2=AeGiPpaNcOV9P3Ombt9BmQZgvn8q8IOv2hu-fyrwg6_aGx9mJ_XuX-awos0UzuIEM4VdwPqeSFPyhr4kprOby5dC&_nc_ohc=S5xrhu5vVRYAX9cCeW9&_nc_ht=scontent.frba5-1.fna&oh=00_AfCxRLf10VM5DOQy7vGt2g4bLSPx-g59U2wOYSdsg8DEXQ&oe=63BB8619', 'https://scontent.frba5-1.fna.fbcdn.net/v/t45.5328-4/314353233_5941944535856502_1062296943005778926_n.jpg?stp=c0.67.403.403a_dst-jpg_p403x403&_nc_cat=105&ccb=1-7&_nc_sid=c48759&_nc_eui2=AeHC2OkI1tbye3N6ay12h54emWfv1JIONJiZZ-_Ukg40mKcHNrsGqNv6mvUTa91bQnQZtl20MaNiW63ZBdLzYH1p&_nc_ohc=oP1DP9xItA0AX8N_n-Y&_nc_ht=scontent.frba5-1.fna&oh=00_AfC93GPhKmGD7-Roi0PpM4Xa84R4WsyJFdNuxw9BLqZfQQ&oe=63BC1B4E', 'https://scontent.frba5-1.fna.fbcdn.net/v/t45.5328-4/321277116_5762392367179599_6309687512903035520_n.jpg?stp=c0.156.403.403a_dst-jpg_p403x403&_nc_cat=111&ccb=1-7&_nc_sid=c48759&_nc_eui2=AeEKwmxoQtnIe6dloFtnAvedY497DFUYIW9jj3sMVRghb0-VfMjBavFJR18yVDe9ucawZXjiNBnoF1M47cP7MR7O&_nc_ohc=0nr2WUGrj_EAX8wwmo-&_nc_ht=scontent.frba5-1.fna&oh=00_AfDRUjZ77qb7Zwyc3JuNxKR1P0pvPMSNPxvh-dJQfpm3Og&oe=63BC81B1', 'https://scontent.frba5-1.fna.fbcdn.net/v/t45.5328-4/305748945_8564494113590521_3577199680695777130_n.jpg?stp=c0.66.403.403a_dst-jpg_p403x403&_nc_cat=105&ccb=1-7&_nc_sid=c48759&_nc_eui2=AeHvPXUxbfwr8m5-XJHmVchCwPxKMJuUk0PA_Eowm5STQ853Y30fIdlu3rmJ9tu1D5r3-0nh1L8VrgdH49Xcjve-&_nc_ohc=kjGN45zrv-8AX-YOJWh&_nc_ht=scontent.frba5-1.fna&oh=00_AfDx8QLnpk0-iS38HUzAvYDNB4UhaESWQYdqvZhKXWOHYg&oe=63BC8718', 'https://scontent.frba5-1.fna.fbcdn.net/v/t45.5328-4/320714832_5872851706114646_4241197885830085260_n.jpg?stp=c0.67.403.403a_dst-jpg_p403x403&_nc_cat=105&ccb=1-7&_nc_sid=c48759&_nc_eui2=AeG-gFvTxTqfaOr290V6Ok6pbVf1fYSCNrdtV_V9hII2tyEx1WbjxsM5-Y6Dc1huj-NY9m8rZE_g2sCWNf1ziGTD&_nc_ohc=7RmCNPLPoxUAX-byNPx&_nc_ht=scontent.frba5-1.fna&oh=00_AfAAmjZzQ2SNaH_doOzxSCtzPq3NLXv_OL3BW6B1sIFdaw&oe=63BD3A37', 'https://scontent.frba5-1.fna.fbcdn.net/v/t45.5328-4/312745645_6257380801013898_7834572009992237590_n.jpg?stp=c0.66.403.403a_dst-jpg_p403x403&_nc_cat=107&ccb=1-7&_nc_sid=c48759&_nc_eui2=AeEK_MwsUGcWUVq6f2tZWAjscxWR6ZbQewJzFZHpltB7AoulrehSkW65TRWrgIrKFrUQt_eWYILSl754mUcGMfIp&_nc_ohc=wNATEQHkBYcAX_N_z3j&_nc_ht=scontent.frba5-1.fna&oh=00_AfCN_S0PlpwXHO6voyD0-F_O_hkLrFJOtoEOKKzL2KwyPA&oe=63BC219E', 'https://scontent.frba5-1.fna.fbcdn.net/v/t45.5328-4/317111478_5825544904202963_8720738282601075080_n.jpg?stp=c0.48.403.403a_dst-jpg_p403x403&_nc_cat=111&ccb=1-7&_nc_sid=c48759&_nc_eui2=AeEnMv94tSCG5Yg9wwcsHvf6tigSd6AqmTS2KBJ3oCqZNHL4OfhkljQow9f6O7fhHxfol8H3zAt6H-aT8VjSbAAU&_nc_ohc=yavAYHtkJkAAX9FBUfF&_nc_ht=scontent.frba5-1.fna&oh=00_AfBx9eredFNpL8XzG66rQPOcwE-LTg3G4mdDp-iWZmmtcQ&oe=63BCBBEF', 'https://scontent.frba5-1.fna.fbcdn.net/v/t45.5328-4/312230147_8390410977698528_696048698953804537_n.jpg?stp=c65.0.395.395a_dst-jpg_p526x395&_nc_cat=102&ccb=1-7&_nc_sid=c48759&_nc_eui2=AeFA3Qfg_5Ise2JGvz-bEZya8UP-4dAPLR_xQ_7h0A8tHwGfGxbbMPEO2Iv5VpsfX9_M5WyV6g-CO_9e4f0egFMq&_nc_ohc=pZSCmq80yDUAX8KZjLG&_nc_ht=scontent.frba5-1.fna&oh=00_AfBFtrB6Av-cGWDzlAKbvW7iiHBWN6aTNVrZ35f8whW1cg&oe=63BD1952', 'https://scontent.frba5-1.fna.fbcdn.net/v/t45.5328-4/316738170_5800247710054600_9099694903673769552_n.jpg?stp=c0.66.403.403a_dst-jpg_p403x403&_nc_cat=109&ccb=1-7&_nc_sid=c48759&_nc_eui2=AeHsvEn6aHJYO_v6hSmVcKFcXxNOqgydURdfE06qDJ1RF688gFd-bGnRKvh_DNpQrL-R-EopdSdBxChgno7E2bZH&_nc_ohc=0GQIoSZF0yQAX832n7b&tn=Mipk_z6z4QbvVeTd&_nc_ht=scontent.frba5-1.fna&oh=00_AfBzZfm2hlr3J72HlDIW-T5k5_3cIiTNuevNlqGPBkzi2w&oe=63BD37CA', 'https://scontent.frba5-1.fna.fbcdn.net/v/t45.5328-4/313079164_5652461098195234_2403336282176509043_n.jpg?stp=c0.66.403.403a_dst-jpg_p403x403&_nc_cat=100&ccb=1-7&_nc_sid=c48759&_nc_eui2=AeHOaIlc2-e7iPjWEGTudn_i9L5ZYIj-k3b0vllgiP6TdvtnZSusdHKseQSQWUoO7FGl7a2Zw-BYjYyo8yfyq2BW&_nc_ohc=HPB0LqY_tMAAX9I9ywk&_nc_ht=scontent.frba5-1.fna&oh=00_AfAFzgL9DCoq6uXiCYeVY9Xbx2fxRQLbJUvB6aXS9citSw&oe=63BCE7A8', 'https://scontent.frba5-1.fna.fbcdn.net/v/t45.5328-4/315858025_6171536386190259_856341273701142648_n.jpg?stp=c0.66.403.403a_dst-jpg_p403x403&_nc_cat=105&ccb=1-7&_nc_sid=c48759&_nc_eui2=AeGzZq-sMddubfGf8jZVGN7q78xMkSGEqkTvzEyRIYSqRCZGPd1kV3YIPjjac1qrzvjSLvc0C_ehIeCbAVNV4_xE&_nc_ohc=Uy-sd78-7mwAX9XlzAw&_nc_ht=scontent.frba5-1.fna&oh=00_AfA73Yhl7Kt4c_-HDcaPDtAN0JhAICr4p_aDhsx40c1P9w&oe=63BB8F46', 'https://scontent.frba5-1.fna.fbcdn.net/v/t45.5328-4/315495160_5413872308739737_2025797445568679047_n.jpg?stp=c0.66.403.403a_dst-jpg_p403x403&_nc_cat=107&ccb=1-7&_nc_sid=c48759&_nc_eui2=AeG5sku4Bf2c5rNAA9eRjKOLALu17Scqo1oAu7XtJyqjWu7I1wbFDG8_YgKVAXK8fIp2zlG4eWXGSfvfyIPgl5xM&_nc_ohc=bnQlBuVykFYAX-3a19K&_nc_ht=scontent.frba5-1.fna&oh=00_AfBGQcGewxlBRv-Q6VaSXjoS1mt0SVPi5m73Q3qaTtx9Nw&oe=63BCD209', 'https://scontent.frba5-1.fna.fbcdn.net/v/t45.5328-4/320678731_6060288660677322_8942719996415659476_n.jpg?stp=c0.73.394.394a_dst-jpg_p180x540&_nc_cat=108&ccb=1-7&_nc_sid=c48759&_nc_eui2=AeGBpngZlKzAlZAtjD-dfek0dxKoNlI_l_B3Eqg2Uj-X8OMGMWD1IwLX8A_1KH2TlNTTl4UNhX18o8LQoV9hmuB5&_nc_ohc=zHYmEPz4qsoAX8O1qSV&_nc_ht=scontent.frba5-1.fna&oh=00_AfBieTbT_DVE7S3FTYzmEdeVy4mDapz85-zoLluxIHri3A&oe=63BBE5BD', 'https://scontent.frba5-1.fna.fbcdn.net/v/t45.5328-4/312506649_5644186845658696_339272267988247444_n.jpg?stp=c0.66.403.403a_dst-jpg_p403x403&_nc_cat=101&ccb=1-7&_nc_sid=c48759&_nc_eui2=AeFlz3n-IfZWgUzSvo21tm-Si00-aYS4FHSLTT5phLgUdCcR52iyHBw2k-0O3tp92WD6O9dWuYPWUoNcI1oheFQD&_nc_ohc=ezpY_pfCJPkAX8gYZSh&_nc_ht=scontent.frba5-1.fna&oh=00_AfByF2wHUr1DLcASdOE9ow8UokGa3kJM57lrCJPmLECJTQ&oe=63BB8DC7', 'https://scontent.frba5-1.fna.fbcdn.net/v/t45.5328-4/316367814_5833116010098898_5361260133897305908_n.jpg?stp=c0.66.403.403a_dst-jpg_p403x403&_nc_cat=105&ccb=1-7&_nc_sid=c48759&_nc_eui2=AeFNzHHlyapxGgxB2KG011KFxRlkX291Kf7FGWRfb3Up_smwZr6L-0Y9HKgw-YUHjwSI73ivl1zH76Af4FcAp8aH&_nc_ohc=e-hxhI1Ja3MAX8TxMTP&_nc_ht=scontent.frba5-1.fna&oh=00_AfBjln-LLFoh7FXLHSm59Dtl3rSiszCtxf5LZPp1TbKhdw&oe=63BC1CD2', 'https://scontent.frba5-1.fna.fbcdn.net/v/t45.5328-4/320314360_5772642972856223_525479311103733243_n.jpg?stp=c0.7.403.403a_dst-jpg_p403x403&_nc_cat=102&ccb=1-7&_nc_sid=c48759&_nc_eui2=AeFhm7YjVzaYbWDY742dXn45sjCDrrDaEGWyMIOusNoQZe_SFTCSRiXTaJsXJOUXMchyu41Na8sF3Ukug2Balkax&_nc_ohc=I6vrvJRMegMAX-BgSP_&_nc_ht=scontent.frba5-1.fna&oh=00_AfBh24DeVTphsdSunFRoMFovHHgXgNlUvltM7_B0wlUsiQ&oe=63BC8E5E', 'https://scontent.frba5-1.fna.fbcdn.net/v/t45.5328-4/319077620_5718624544890040_1957543632637819946_n.jpg?stp=c0.220.403.403a_dst-jpg_p403x403&_nc_cat=104&ccb=1-7&_nc_sid=c48759&_nc_eui2=AeGHddXyLOVOoBFqVL1WORFcG5Oc4MuZSLYbk5zgy5lItru1h2nRJwPS2GLB3D0iAkxMhRvRnc5zXpK04j7ZY9gk&_nc_ohc=qTqKs5uH0_wAX9vGNZI&_nc_ht=scontent.frba5-1.fna&oh=00_AfBi29BLlmLhHLm6JG-Hzb93qrKJJr-gSkhcVcgkau3L2A&oe=63BBA97D', 'https://scontent.frba5-1.fna.fbcdn.net/v/t45.5328-4/311442215_5641515859248281_2566894201854648709_n.jpg?stp=c0.66.403.403a_dst-jpg_p403x403&_nc_cat=100&ccb=1-7&_nc_sid=c48759&_nc_eui2=AeGLPd4w8fQZT0PpON4GVgzzFrU4BuQ0IsEWtTgG5DQiwVvolysh7u3XdDtHwrQT-S5CgErqrq7tUNsjox8lyGfm&_nc_ohc=chDPv3PORsEAX-rEfMw&_nc_ht=scontent.frba5-1.fna&oh=00_AfCFcm-k6w-vxhAmnQv1Lilc6mBGi_ooxXo4uw91YCoE6w&oe=63BD3682', 'https://scontent.frba5-1.fna.fbcdn.net/v/t45.5328-4/313394465_5818728394828992_8237754337027349941_n.jpg?stp=c0.66.403.403a_dst-jpg_p403x403&_nc_cat=104&ccb=1-7&_nc_sid=c48759&_nc_eui2=AeGHPr1m09GnoMtMAGFSn3BAb5Nd8z3vqtRvk13zPe-q1E8EOLs_VKL65TLbd28PMpUD5BejAojfp94nIUX0mTrp&_nc_ohc=Ka7KAfgYbxYAX9t2CkY&_nc_ht=scontent.frba5-1.fna&oh=00_AfAX52AHZosUxveKKwf0jqupeSyt4p5Gzvee8xii1hlKKA&oe=63BBAF6F', 'https://scontent.frba5-1.fna.fbcdn.net/v/t45.5328-4/322667551_5545822792182252_8741093849500261951_n.jpg?stp=c0.48.403.403a_dst-jpg_p403x403&_nc_cat=106&ccb=1-7&_nc_sid=c48759&_nc_eui2=AeFt4qSss2m4Nn77lWRCZbJlPWLkxJvZDRw9YuTEm9kNHLMvV5UICl54EWIsswcCMQggfFbb7OkwzdjkKbetgJFH&_nc_ohc=g0beXbVwFS0AX84Zu2P&_nc_ht=scontent.frba5-1.fna&oh=00_AfBPdbZrOlNX22dNPYE1xmpQmZMK99y1jnBFq3bUdYFuyg&oe=63BC07EE', 'https://scontent.frba5-1.fna.fbcdn.net/v/t45.5328-4/314716923_5974445035932002_1577052697687716547_n.jpg?stp=c0.66.403.403a_dst-jpg_p403x403&_nc_cat=105&ccb=1-7&_nc_sid=c48759&_nc_eui2=AeEQnWFrIZH_7JeBab5a5tAfos7bl93DV62iztuX3cNXrdlxh9esdtS8g7PE9dMQTZu8tWh61ed6QfQIuzvOCOCj&_nc_ohc=gbZq7F0yEDMAX897f6m&_nc_ht=scontent.frba5-1.fna&oh=00_AfA25cKJjZPw8zzK5jHpfcgj6fUrIUDelmy8GTzqyV_dNw&oe=63BD4402', 'https://scontent.frba5-1.fna.fbcdn.net/v/t45.5328-4/316325096_5984392614985288_3885019355306852873_n.jpg?stp=c0.66.403.403a_dst-jpg_p403x403&_nc_cat=105&ccb=1-7&_nc_sid=c48759&_nc_eui2=AeGOKvc6G7YxJVZuMfWgiunZV3MMrt7QlYNXcwyu3tCVg9IiJDnOxkyX9nO2bTNoHTyh7oxdMa-xpWfWACGU7sTp&_nc_ohc=wP6aieGIMCwAX948Kja&_nc_ht=scontent.frba5-1.fna&oh=00_AfBbw1DY72nfenzlC0cCYs-YSQ8am5VQU5BjP1b-uqDe9Q&oe=63BCD9E7', 'https://scontent.frba5-1.fna.fbcdn.net/v/t45.5328-4/316738170_5767836039970752_480742306477263898_n.jpg?stp=c65.0.395.395a_dst-jpg_p526x395&_nc_cat=105&ccb=1-7&_nc_sid=c48759&_nc_eui2=AeE_O6hPgr19RmpghcGQ_Zz7GQliepSVu9sZCWJ6lJW727LKZeB2XVD8eeiucEIi_EOgW-v0q_qLXL-9InyKMs2V&_nc_ohc=WiDQckEA0l8AX_V4qdp&_nc_ht=scontent.frba5-1.fna&oh=00_AfDnNuXqM8Fj4cDuGbOueerM2sWAKu-oxFJfMbECGoBsUA&oe=63BD3826', 'https://scontent.frba5-1.fna.fbcdn.net/v/t45.5328-4/306515636_5853003478119837_835742571760465776_n.jpg?stp=c0.156.403.403a_dst-jpg_p403x403&_nc_cat=109&ccb=1-7&_nc_sid=c48759&_nc_eui2=AeGafihD0cYZ-u-oAU7-iGPwj5ZFJH-p3EWPlkUkf6ncRdq5A7DRBLrjSojxKAjvMVaMcoKvmQedqfZzZ7f-oTMW&_nc_ohc=LoY-gbIrELQAX_7vJUo&_nc_oc=AQnRBE6mZ6OyBKAX2lXuM7TYATYP_u4f4R_CjdQvX3WXFIdP7viC6qE16V6riS0a-gk&tn=Mipk_z6z4QbvVeTd&_nc_ht=scontent.frba5-1.fna&oh=00_AfArWVxVR8oBjNuqq33OoWJnlQH-NvudKY95UOF0W3VTqQ&oe=63BD4E20', 'https://scontent.frba5-1.fna.fbcdn.net/v/t45.5328-4/320870290_6107141695997609_7887328668617566882_n.jpg?stp=c0.67.403.403a_dst-jpg_p403x403&_nc_cat=110&ccb=1-7&_nc_sid=c48759&_nc_eui2=AeHgQmbeRP0Ck8ua2O3RhuWJ36scdqIIFsffqxx2oggWx1lsfDKgdr_VyY9ATEwDnTIr4ITncVhypyYSFMpfqI2T&_nc_ohc=mvOqVAjUhW0AX_DlqwI&tn=Mipk_z6z4QbvVeTd&_nc_ht=scontent.frba5-1.fna&oh=00_AfCnFoBS5FG-51ElthKSX9cWr57W9US4ZmGMYiWehzhQNA&oe=63BC5C8B', 'https://scontent.frba5-1.fna.fbcdn.net/v/t45.5328-4/312915619_6316568835049435_7906514814808508512_n.jpg?stp=c0.246.403.403a_dst-jpg_p403x403&_nc_cat=100&ccb=1-7&_nc_sid=c48759&_nc_eui2=AeHxOCdqc6HDaxYEv--L4Hmzb1KncYCzRgtvUqdxgLNGC8k6A4zylNuJmtNRrukXFPeXTxrJg0TeibjHy7E_74Ql&_nc_ohc=ftMFbwssUt8AX9gZzja&_nc_oc=AQkecTrwPmq_0PZTifNSUzgX4MUDqb1XC26KVG_qtf5ytakChnA-qJe4mbt19RAm9RU&_nc_ht=scontent.frba5-1.fna&oh=00_AfCd2VkJTqXpVCCsyykSXPelFloCZbFSlL7DZ3LBMrDRQQ&oe=63BB9A0F', 'https://scontent.frba5-1.fna.fbcdn.net/v/t45.5328-4/310111146_6176984762312986_2256283093783818785_n.jpg?stp=c0.42.403.403a_dst-jpg_p403x403&_nc_cat=106&ccb=1-7&_nc_sid=c48759&_nc_eui2=AeEp_2dB1UsYPO-UHumWE6EsuUQS8Twoe4e5RBLxPCh7h-OmjNLhbONX5pi4GXjOwIuJmu3pes_5_m4AYo4s_6i3&_nc_ohc=TOoXm5N4CycAX_XyKrA&_nc_ht=scontent.frba5-1.fna&oh=00_AfD15XPFlF9dTkaxqrJtJs1nKQDUNSrudz3twOf9oRG9lQ&oe=63BC9C58', 'https://scontent.frba5-1.fna.fbcdn.net/v/t45.5328-4/315252043_6069591189741108_3912923964137205945_n.jpg?stp=c0.246.403.403a_dst-jpg_p403x403&_nc_cat=109&ccb=1-7&_nc_sid=c48759&_nc_eui2=AeHBP3SjG6fXedbkbeaPsIBOqOmYgSYSM0mo6ZiBJhIzSZ4mBPPNmXPNe5Blqb5TzKMSVMg_EXPiFN3krJjhRNMj&_nc_ohc=_6fZiDvy7PwAX_zkWCd&_nc_ht=scontent.frba5-1.fna&oh=00_AfD1Z45feNX4IBfk61_f5_jxqn2YfKOzGKAV-xiQuTgxEQ&oe=63BC9233', 'https://scontent.frba5-1.fna.fbcdn.net/v/t45.5328-4/312599265_5924472814279332_1836043389467492142_n.jpg?stp=c0.66.403.403a_dst-jpg_p403x403&_nc_cat=105&ccb=1-7&_nc_sid=c48759&_nc_eui2=AeFdG7GyHr8utMxdWjRsi4IRRUJP0iMT-sVFQk_SIxP6xagTWc2sVabPIidQWfSaKRLXR7vlXU79H6razmJo-c21&_nc_ohc=nRJgYd77P2QAX8tkVYG&tn=Mipk_z6z4QbvVeTd&_nc_ht=scontent.frba5-1.fna&oh=00_AfCWCnAEwgMPn5buAq-QdNu-RC0gXHlZqqmCv8CrkB-x0g&oe=63BD17A5', 'https://scontent.frba5-1.fna.fbcdn.net/v/t45.5328-4/314682096_5208084522624954_7540602419729221492_n.jpg?stp=c0.59.403.403a_dst-jpg_p403x403&_nc_cat=111&ccb=1-7&_nc_sid=c48759&_nc_eui2=AeFPtLT83oLCTI32F44jGJEK03ygTeRQJ0HTfKBN5FAnQZoBbqJPKHyh951sYb2MK7HXgcUGxu8Tm90gPj1xSirK&_nc_ohc=ez3mvemy5foAX9lWoo4&tn=Mipk_z6z4QbvVeTd&_nc_ht=scontent.frba5-1.fna&oh=00_AfDkwmrBHRVXwvC9GiJ8-wTDXNdqdg0Wfrj4ONcP110sNA&oe=63BD1A85', 'https://scontent.frba5-1.fna.fbcdn.net/v/t45.5328-4/315538306_6065923696764591_3807851541254138212_n.jpg?stp=c0.191.403.403a_dst-jpg_p403x403&_nc_cat=108&ccb=1-7&_nc_sid=c48759&_nc_eui2=AeE9qUfE6GpiloFHQ_HlXqb6Ry0o7sul4TtHLSjuy6XhO3WjjFjKp15vjMY-6cHOFf2Lh8iqqcU_JHiKeGTuZaP1&_nc_ohc=AQzax9vNUeYAX9Annji&_nc_ht=scontent.frba5-1.fna&oh=00_AfAcNpXbxNs2gMYwVsIunU6A9EmHUeGiaQl9-wnfsUfA4Q&oe=63BBFB41']\n"
     ]
    }
   ],
   "source": [
    "import urllib.request  \n",
    "time.sleep(3)                    \n",
    "imgResults=driver.find_elements(By.XPATH,\"//body[1]/div[1]/div[1]/div[1]/div[1]/div[3]/div[1]/div[1]/div[1]/div[1]/div[1]/div[2]/div[1]/div[1]/div[3]/div[1]/div[2]/div/div[1]/div[1]/span[1]/div[1]/div[1]/a[1]/div[1]/div[1]/div[1]/div[1]/div[1]/div[1]/div[1]/img[1]\")\n",
    "for img in imgResults:                    \n",
    "    images.append(img.get_attribute('src'))\n",
    "    brand.append(\"IPHONE\")\n",
    "print(images)\n"
   ]
  },
  {
   "cell_type": "code",
   "execution_count": 122,
   "metadata": {},
   "outputs": [
    {
     "name": "stdout",
     "output_type": "stream",
     "text": [
      "94\n"
     ]
    }
   ],
   "source": [
    "print(len(images))"
   ]
  },
  {
   "cell_type": "code",
   "execution_count": 123,
   "metadata": {},
   "outputs": [],
   "source": [
    "for i in range(len(images)):\n",
    "    urllib.request.urlretrieve(str(images[i]),\"C:/Users/imane/OneDrive/Pictures/iphone{}.jpg\".format(i))"
   ]
  },
  {
   "cell_type": "markdown",
   "metadata": {},
   "source": [
    "<h4 style=\"color:grey\">Extrayons les prix des produits</h4>"
   ]
  },
  {
   "cell_type": "code",
   "execution_count": 130,
   "metadata": {},
   "outputs": [
    {
     "name": "stdout",
     "output_type": "stream",
     "text": [
      "['د.م.2,800', 'د.م.850', 'د.م.2,800', 'Free', 'د.م.2,300', 'د.م.2,700', 'د.م.550', 'Free', 'د.م.1,950', 'د.م.3,300', 'د.م.4,800', 'Free', 'د.م.1,700', 'DA800', 'د.م.1,000', 'Free', 'د.م.3,000', 'د.م.5,000', 'Free', 'د.م.4,800', 'د.م.2,800', 'د.م.1,900', 'د.م.6,700', 'Free', 'Free', 'د.م.1,390', 'Free', 'Free', '$700', 'Free', 'د.م.1,000', 'Free', 'Free', 'د.م.1,550', 'د.م.4,700', 'د.م.1,200', 'Free', 'د.م.600', 'د.م.1,000', 'د.م.500', 'د.م.1', 'د.م.800', 'Free', 'د.م.2,600', 'د.م.1,350', '$11,000', 'د.م.3', 'د.م.2,800', 'د.م.850', 'د.م.2,800', 'Free', 'د.م.2,300', 'د.م.2,700', 'د.م.550', 'Free', 'د.م.1,950', 'د.م.3,300', 'د.م.4,800', 'Free', 'د.م.1,700', 'DA800', 'د.م.1,000', 'Free', 'د.م.3,000', 'د.م.5,000', 'Free', 'د.م.4,800', 'د.م.2,800', 'د.م.1,900', 'د.م.6,700', 'Free', 'Free', 'د.م.1,390', 'Free', 'Free', '$700', 'Free', 'د.م.1,000', 'Free', 'Free', 'د.م.1,550', 'د.م.4,700', 'د.م.1,200', 'Free', 'د.م.600', 'د.م.1,000', 'د.م.500', 'د.م.1', 'د.م.800', 'Free', 'د.م.2,600', 'د.م.1,350', '$11,000', 'د.م.3']\n"
     ]
    }
   ],
   "source": [
    "time.sleep(3)   \n",
    "pricesResults=driver.find_elements(By.XPATH,\"//body[1]/div[1]/div[1]/div[1]/div[1]/div[3]/div[1]/div[1]/div[1]/div[1]/div[1]/div[2]/div[1]/div[1]/div[3]/div[1]/div[2]/div/div[1]/div[1]/span[1]/div[1]/div[1]/a[1]/div[1]/div[2]/div[1]/span[1]/div[1]/span[1]\")                          \n",
    "for price in pricesResults:\n",
    "    prices.append(price.text)\n",
    "print(prices)"
   ]
  },
  {
   "cell_type": "code",
   "execution_count": 131,
   "metadata": {},
   "outputs": [
    {
     "name": "stdout",
     "output_type": "stream",
     "text": [
      "94\n"
     ]
    }
   ],
   "source": [
    "print(len(prices))"
   ]
  },
  {
   "cell_type": "markdown",
   "metadata": {},
   "source": [
    "<h4 style=\"color:grey\">Extrayons la localisation des produits</h4>"
   ]
  },
  {
   "cell_type": "code",
   "execution_count": 127,
   "metadata": {},
   "outputs": [
    {
     "name": "stdout",
     "output_type": "stream",
     "text": [
      "['الرباط, الرباط - سلا - القنيطرة', 'الرباط, الرباط - سلا - القنيطرة', 'الرباط, الرباط - سلا - القنيطرة', 'الرباط, الرباط - سلا - القنيطرة', 'الرباط, الرباط - سلا - القنيطرة', 'الرباط, الرباط - سلا - القنيطرة', 'الرباط, الرباط - سلا - القنيطرة', 'الرباط, الرباط - سلا - القنيطرة', 'الرباط, الرباط - سلا - القنيطرة', 'الرباط, الرباط - سلا - القنيطرة', 'الرباط, الرباط - سلا - القنيطرة', 'الرباط, الرباط - سلا - القنيطرة', 'الرباط, الرباط - سلا - القنيطرة', 'الرباط, الرباط - سلا - القنيطرة', 'الرباط, الرباط - سلا - القنيطرة', 'الرباط, الرباط - سلا - القنيطرة', 'الرباط, الرباط - سلا - القنيطرة', 'الرباط, الرباط - سلا - القنيطرة', 'الرباط, الرباط - سلا - القنيطرة', 'الرباط, الرباط - سلا - القنيطرة', 'الرباط, الرباط - سلا - القنيطرة', 'الرباط, الرباط - سلا - القنيطرة', 'الرباط, الرباط - سلا - القنيطرة', 'الرباط, الرباط - سلا - القنيطرة', 'سلا, الرباط - سلا - القنيطرة', 'سلا, الرباط - سلا - القنيطرة', 'سلا, الرباط - سلا - القنيطرة', 'تمارة, الرباط - سلا - القنيطرة', 'سلا, الرباط - سلا - القنيطرة', 'الرباط, الرباط - سلا - القنيطرة', 'تمارة, الرباط - سلا - القنيطرة', 'سلا, الرباط - سلا - القنيطرة', 'الرباط, الرباط - سلا - القنيطرة', 'سلا, الرباط - سلا - القنيطرة', 'عين عتيق, الرباط - سلا - القنيطرة', 'الرباط, الرباط - سلا - القنيطرة', 'الرباط, الرباط - سلا - القنيطرة', 'سلا, الرباط - سلا - القنيطرة', 'سلا, الرباط - سلا - القنيطرة', 'تمارة, الرباط - سلا - القنيطرة', 'سلا, الرباط - سلا - القنيطرة', 'سلا, الرباط - سلا - القنيطرة', 'سلا, الرباط - سلا - القنيطرة', 'سلا, الرباط - سلا - القنيطرة', 'الرباط, الرباط - سلا - القنيطرة', 'سلا, الرباط - سلا - القنيطرة', 'سلا, الرباط - سلا - القنيطرة', 'الرباط, الرباط - سلا - القنيطرة', 'الرباط, الرباط - سلا - القنيطرة', 'الرباط, الرباط - سلا - القنيطرة', 'الرباط, الرباط - سلا - القنيطرة', 'الرباط, الرباط - سلا - القنيطرة', 'الرباط, الرباط - سلا - القنيطرة', 'الرباط, الرباط - سلا - القنيطرة', 'الرباط, الرباط - سلا - القنيطرة', 'الرباط, الرباط - سلا - القنيطرة', 'الرباط, الرباط - سلا - القنيطرة', 'الرباط, الرباط - سلا - القنيطرة', 'الرباط, الرباط - سلا - القنيطرة', 'الرباط, الرباط - سلا - القنيطرة', 'الرباط, الرباط - سلا - القنيطرة', 'الرباط, الرباط - سلا - القنيطرة', 'الرباط, الرباط - سلا - القنيطرة', 'الرباط, الرباط - سلا - القنيطرة', 'الرباط, الرباط - سلا - القنيطرة', 'الرباط, الرباط - سلا - القنيطرة', 'الرباط, الرباط - سلا - القنيطرة', 'الرباط, الرباط - سلا - القنيطرة', 'الرباط, الرباط - سلا - القنيطرة', 'الرباط, الرباط - سلا - القنيطرة', 'الرباط, الرباط - سلا - القنيطرة', 'سلا, الرباط - سلا - القنيطرة', 'سلا, الرباط - سلا - القنيطرة', 'سلا, الرباط - سلا - القنيطرة', 'تمارة, الرباط - سلا - القنيطرة', 'سلا, الرباط - سلا - القنيطرة', 'الرباط, الرباط - سلا - القنيطرة', 'تمارة, الرباط - سلا - القنيطرة', 'سلا, الرباط - سلا - القنيطرة', 'الرباط, الرباط - سلا - القنيطرة', 'سلا, الرباط - سلا - القنيطرة', 'عين عتيق, الرباط - سلا - القنيطرة', 'الرباط, الرباط - سلا - القنيطرة', 'الرباط, الرباط - سلا - القنيطرة', 'سلا, الرباط - سلا - القنيطرة', 'سلا, الرباط - سلا - القنيطرة', 'تمارة, الرباط - سلا - القنيطرة', 'سلا, الرباط - سلا - القنيطرة', 'سلا, الرباط - سلا - القنيطرة', 'سلا, الرباط - سلا - القنيطرة', 'سلا, الرباط - سلا - القنيطرة', 'الرباط, الرباط - سلا - القنيطرة', 'سلا, الرباط - سلا - القنيطرة', 'سلا, الرباط - سلا - القنيطرة']\n"
     ]
    }
   ],
   "source": [
    "time.sleep(3)   \n",
    "locationResults=driver.find_elements(By.XPATH,\"//body[1]/div[1]/div[1]/div[1]/div[1]/div[3]/div[1]/div[1]/div[1]/div[1]/div[1]/div[2]/div[1]/div[1]/div[3]/div[1]/div[2]/div/div[1]/div[1]/span[1]/div[1]/div[1]/a[1]/div[1]/div[2]/div[3]/span[1]/div[1]/span[1]/span[1]\")\n",
    "time.sleep(3)                                \n",
    "for location in locationResults:\n",
    "    location_phone.append(location.text)\n",
    "print(location_phone)\n"
   ]
  },
  {
   "cell_type": "code",
   "execution_count": 132,
   "metadata": {},
   "outputs": [
    {
     "name": "stdout",
     "output_type": "stream",
     "text": [
      "94\n"
     ]
    }
   ],
   "source": [
    "print(len(location_phone))"
   ]
  },
  {
   "cell_type": "markdown",
   "metadata": {},
   "source": [
    "<h4 style=\"color:grey\">Extrayons les details des produits</h4>"
   ]
  },
  {
   "cell_type": "code",
   "execution_count": 133,
   "metadata": {},
   "outputs": [
    {
     "name": "stdout",
     "output_type": "stream",
     "text": [
      "iPhone xr 64 J’aime thlat ￼\n",
      "Iphone 7 32gb 76%\n",
      "🍏iPhone XR 👉64g 👉83% 👉official\n",
      "Iphone XR 64g\n",
      "iPhone 8 plus\n",
      "iPhone XR\n",
      "iPhone 6\n",
      "iphone 13mini ￼\n",
      "Iphone se 2020\n",
      "Iphone 11 128Gb\n",
      "iPhone 12 64go 89%🔋\n",
      "iphone 11 normal 128\n",
      "iPhone X\n",
      "iPhone 14 pro max copi\n",
      "iPhone 7\n",
      "iPhone 7 Plus 128G noir\n",
      "IPHONE XS MAX 256GB\n",
      "iphone 11 pro max\n",
      "Iphone 11 pro max 64GB/81%batrie\n",
      "Iphone 12 normal 64g 87% état de batterie Jamais ouvert 👌🏼✅\n",
      "Iphone XR 88% battrie 🔋✅\n",
      "🍏iPhone 8 👉256g 👉91% 👉official\n",
      "Iphone 13 normal\n",
      "Iphone 13 pro max copie (usa)\n",
      "iPhone 8 jdid\n",
      "iPhone 8 blanc 64Gb\n",
      "iPhone 12 normal stokage 128 batri 96\n",
      "Iphone 13 mini 128 GB 91%\n",
      "iPhone 6 plus 16 GB\n",
      "iPhone 7 32 GBB Jdid\n",
      "iPhone 11 icloud\n",
      "Iphone 8 plus , 64G ,, prix d ras l3am\n",
      "iPhone X normale ba9i n9iiii👇🏻👇🏻\n",
      "IPhone 7 Plus\n",
      "IPhone 11 Pro Max 64g\n",
      "Iphone 7 128gb ba9i n9i libghah ma3hba\n",
      "iPhone 11 normal\n",
      "iphone 6\n",
      "iPhone 8normal\n",
      "IPHONE S\n",
      "iPhone 7 normal bypass\n",
      "Iphone 6s + 128g\n",
      "iPhone 8 256 GB jdid\n",
      "Iphone 11 64 g\n",
      "iPhone 8 official 64 87% kolchi khdam\n",
      "Iphone 14 pro max\n",
      "iPhone 8 Plus 64 Gb tele jdid\n",
      "iphone 16 jiga\n"
     ]
    }
   ],
   "source": [
    "time.sleep(3)  \n",
    "infoResults=driver.find_elements(By.XPATH,\"/html/body/div[1]/div/div[1]/div/div[3]/div/div/div/div[1]/div[1]/div[2]/div/div/div[3]/div/div[2]/div/div/div/span/div/div/a/div/div[2]/div[2]/span/div/span/span\")                        \n",
    "for info in infoResults:\n",
    "    info_text=info.text\n",
    "    print(info_text)\n",
    "    "
   ]
  },
  {
   "attachments": {},
   "cell_type": "markdown",
   "metadata": {},
   "source": [
    "<h3 style=\"color:grey\">Maintenant, nous allons essayer d'extraire certaines caractéristiques de la phrase de détails</h3>"
   ]
  },
  {
   "cell_type": "markdown",
   "metadata": {},
   "source": [
    "<h4 style=\"color:grey\">Nous allons commencer par obtenir la capacité</h4>"
   ]
  },
  {
   "cell_type": "code",
   "execution_count": 138,
   "metadata": {},
   "outputs": [
    {
     "name": "stdout",
     "output_type": "stream",
     "text": [
      "48\n",
      "No info\n",
      "No info\n",
      "No info\n",
      "No info\n",
      "No info\n",
      "No info\n",
      "No info\n",
      "No info\n",
      "No info\n",
      "11128\n",
      "No info\n",
      "No info\n",
      "No info\n",
      "No info\n",
      "No info\n",
      "128\n",
      "256\n",
      "No info\n",
      "64\n",
      "No info\n",
      "No info\n",
      "No info\n",
      "No info\n",
      "No info\n",
      "No info\n",
      "64\n",
      "No info\n",
      "128\n",
      "16\n",
      "732\n",
      "No info\n",
      "64\n",
      "No info\n",
      "No info\n",
      "No info\n",
      "No info\n",
      "No info\n",
      "No info\n",
      "No info\n",
      "No info\n",
      "No info\n",
      "No info\n",
      "8256\n",
      "No info\n",
      "No info\n",
      "No info\n",
      "64\n",
      "No info\n",
      "['No info', 732, 64, 64, 'No info', 'No info', 'No info', 'No info', 'No info', 11128, 1264, 'No info', 'No info', 'No info', 'No info', 128, 256, 'No info', 64, 64, 'No info', 256, 'No info', 'No info', 'No info', 64, 'No info', 732, 64, 64, 'No info', 'No info', 'No info', 'No info', 'No info', 11128, 1264, 'No info', 'No info', 'No info', 'No info', 128, 256, 'No info', 64, 64, 'No info', 256, 'No info', 'No info', 'No info', 64, 'No info', 732, 64, 64, 'No info', 'No info', 'No info', 'No info', 'No info', 11128, 1264, 'No info', 'No info', 'No info', 'No info', 128, 256, 'No info', 64, 64, 'No info', 256, 'No info', 'No info', 'No info', 64, 'No info', 732, 64, 64, 'No info', 'No info', 'No info', 'No info', 'No info', 11128, 1264, 'No info', 'No info', 'No info', 'No info', 128, 256, 'No info', 64, 64, 'No info', 256, 'No info', 'No info', 'No info', 64, 'No info', 'No info', 'No info', 'No info', 'No info', 'No info', 'No info', 'No info', 'No info', 11128, 'No info', 'No info', 'No info', 'No info', 'No info', 128, 256, 'No info', 64, 'No info', 'No info', 'No info', 'No info', 'No info', 'No info', 64, 'No info', 128, 16, 732, 'No info', 64, 'No info', 'No info', 'No info', 'No info', 'No info', 'No info', 'No info', 'No info', 'No info', 'No info', 8256, 'No info', 'No info', 'No info', 64, 'No info']\n"
     ]
    }
   ],
   "source": [
    "time.sleep(3)   \n",
    "string1=\"G\"\n",
    "string2=\"g\"\n",
    "print(len(infoResults))\n",
    "for info in infoResults:\n",
    "    info_text=re.sub(r\"\\s+\", \"\", info.text)\n",
    "    #print(info_text)\n",
    "    if string1 in info_text:\n",
    "        storage_value=int(re.findall(r\"(\\d+)G\", info_text)[0])\n",
    "        print(storage_value)\n",
    "        storage.append( storage_value)\n",
    "    else:\n",
    "        storage_value=\"No info\"\n",
    "        print(storage_value)\n",
    "        storage.append( storage_value)\n",
    "print(storage)\n"
   ]
  },
  {
   "cell_type": "code",
   "execution_count": 142,
   "metadata": {},
   "outputs": [
    {
     "name": "stdout",
     "output_type": "stream",
     "text": [
      "152\n"
     ]
    }
   ],
   "source": [
    "print(len(storage))"
   ]
  },
  {
   "cell_type": "markdown",
   "metadata": {},
   "source": [
    "<h4 style=\"color:grey\">Après nous aurons le pourcentage de batterie</h4>"
   ]
  },
  {
   "cell_type": "code",
   "execution_count": 139,
   "metadata": {},
   "outputs": [
    {
     "name": "stdout",
     "output_type": "stream",
     "text": [
      "No info\n",
      "76\n",
      "83\n",
      "No info\n",
      "No info\n",
      "No info\n",
      "No info\n",
      "No info\n",
      "No info\n",
      "No info\n",
      "89\n",
      "No info\n",
      "No info\n",
      "No info\n",
      "No info\n",
      "No info\n",
      "No info\n",
      "No info\n",
      "81\n",
      "87\n",
      "88\n",
      "91\n",
      "No info\n",
      "No info\n",
      "No info\n",
      "No info\n",
      "No info\n",
      "91\n",
      "No info\n",
      "No info\n",
      "No info\n",
      "No info\n",
      "No info\n",
      "No info\n",
      "No info\n",
      "No info\n",
      "No info\n",
      "No info\n",
      "No info\n",
      "No info\n",
      "No info\n",
      "No info\n",
      "No info\n",
      "No info\n",
      "6487\n",
      "No info\n",
      "No info\n",
      "No info\n",
      "['No info', 76, 83, 'No info', 'No info', 'No info', 'No info', 'No info', 'No info', 'No info', 89, 'No info', 'No info', 'No info', 'No info', 'No info', 'No info', 'No info', 81, 87, 88, 91, 'No info', 'No info', 'No info', 'No info', 'No info', 91, 'No info', 'No info', 'No info', 'No info', 'No info', 'No info', 'No info', 'No info', 'No info', 'No info', 'No info', 'No info', 'No info', 'No info', 'No info', 'No info', 6487, 'No info', 'No info', 'No info', 'No info', 76, 83, 'No info', 'No info', 'No info', 'No info', 'No info', 'No info', 'No info', 89, 'No info', 'No info', 'No info', 'No info', 'No info', 'No info', 'No info', 81, 87, 88, 91, 'No info', 'No info', 'No info', 'No info', 'No info', 91, 'No info', 'No info', 'No info', 'No info', 'No info', 'No info', 'No info', 'No info', 'No info', 'No info', 'No info', 'No info', 'No info', 'No info', 'No info', 'No info', 6487, 'No info', 'No info', 'No info']\n"
     ]
    }
   ],
   "source": [
    "time.sleep(3)   \n",
    "porcentage=\"%\"\n",
    "for info in infoResults:\n",
    "    info_text=re.sub(r\"\\s+\", \"\", info.text)\n",
    "    #print(info_text)\n",
    "    if porcentage in info_text:\n",
    "        battery_value=int(re.findall(r\"(\\d+)%\", info_text)[0])\n",
    "        print(battery_value)\n",
    "        battery.append(battery_value)\n",
    "    else:\n",
    "        battery_value=\"No info\"\n",
    "        print(battery_value)\n",
    "        battery.append(battery_value)\n",
    "print(battery)\n",
    "\n",
    "\n"
   ]
  },
  {
   "cell_type": "code",
   "execution_count": 141,
   "metadata": {},
   "outputs": [
    {
     "name": "stdout",
     "output_type": "stream",
     "text": [
      "96\n"
     ]
    }
   ],
   "source": [
    "print(len(battery))"
   ]
  },
  {
   "cell_type": "markdown",
   "metadata": {},
   "source": [
    "<h4 style=\"color:grey\">Gardons le lien vers l'article</h4>"
   ]
  },
  {
   "cell_type": "code",
   "execution_count": 144,
   "metadata": {},
   "outputs": [
    {
     "name": "stdout",
     "output_type": "stream",
     "text": [
      "['https://www.facebook.com/marketplace/item/1332826504145117/?hoisted=false&ref=search&referral_code=null&referral_story_type=post&tracking=browse_serp%3Ae0d91ba9-aff7-49a7-8244-4de079410caf&__tn__=!%3AD', 'https://www.facebook.com/marketplace/item/770231457856047/?hoisted=false&ref=search&referral_code=null&referral_story_type=post&tracking=browse_serp%3Ae0d91ba9-aff7-49a7-8244-4de079410caf&__tn__=!%3AD', 'https://www.facebook.com/marketplace/item/698797198576888/?hoisted=false&ref=search&referral_code=null&referral_story_type=post&tracking=browse_serp%3Ae0d91ba9-aff7-49a7-8244-4de079410caf&__tn__=!%3AD', 'https://www.facebook.com/marketplace/item/1428528934348462/?hoisted=false&ref=search&referral_code=null&referral_story_type=post&tracking=browse_serp%3Ae0d91ba9-aff7-49a7-8244-4de079410caf&__tn__=!%3AD', 'https://www.facebook.com/marketplace/item/678628637066714/?hoisted=false&ref=search&referral_code=null&referral_story_type=post&tracking=browse_serp%3Ae0d91ba9-aff7-49a7-8244-4de079410caf&__tn__=!%3AD', 'https://www.facebook.com/marketplace/item/567710938164093/?hoisted=false&ref=search&referral_code=null&referral_story_type=post&tracking=browse_serp%3Ae0d91ba9-aff7-49a7-8244-4de079410caf&__tn__=!%3AD', 'https://www.facebook.com/marketplace/item/1153751018840156/?hoisted=false&ref=search&referral_code=null&referral_story_type=post&tracking=browse_serp%3Ae0d91ba9-aff7-49a7-8244-4de079410caf&__tn__=!%3AD', 'https://www.facebook.com/marketplace/item/537671938377945/?hoisted=false&ref=search&referral_code=null&referral_story_type=post&tracking=browse_serp%3Ae0d91ba9-aff7-49a7-8244-4de079410caf&__tn__=!%3AD', 'https://www.facebook.com/marketplace/item/697118811880369/?hoisted=false&ref=search&referral_code=null&referral_story_type=post&tracking=browse_serp%3Ae0d91ba9-aff7-49a7-8244-4de079410caf&__tn__=!%3AD', 'https://www.facebook.com/marketplace/item/1136104433726387/?hoisted=false&ref=search&referral_code=null&referral_story_type=post&tracking=browse_serp%3Ae0d91ba9-aff7-49a7-8244-4de079410caf&__tn__=!%3AD', 'https://www.facebook.com/marketplace/item/1334778060640772/?hoisted=false&ref=search&referral_code=null&referral_story_type=post&tracking=browse_serp%3Ae0d91ba9-aff7-49a7-8244-4de079410caf&__tn__=!%3AD', 'https://www.facebook.com/marketplace/item/856224105460190/?hoisted=false&ref=search&referral_code=null&referral_story_type=post&tracking=browse_serp%3Ae0d91ba9-aff7-49a7-8244-4de079410caf&__tn__=!%3AD', 'https://www.facebook.com/marketplace/item/726224705502149/?hoisted=false&ref=search&referral_code=null&referral_story_type=post&tracking=browse_serp%3Ae0d91ba9-aff7-49a7-8244-4de079410caf&__tn__=!%3AD', 'https://www.facebook.com/marketplace/item/898403261569726/?hoisted=false&ref=search&referral_code=null&referral_story_type=post&tracking=browse_serp%3Ae0d91ba9-aff7-49a7-8244-4de079410caf&__tn__=!%3AD', 'https://www.facebook.com/marketplace/item/1517599872068314/?hoisted=false&ref=search&referral_code=null&referral_story_type=post&tracking=browse_serp%3Ae0d91ba9-aff7-49a7-8244-4de079410caf&__tn__=!%3AD', 'https://www.facebook.com/marketplace/item/1485029681989545/?hoisted=false&ref=search&referral_code=null&referral_story_type=post&tracking=browse_serp%3Ae0d91ba9-aff7-49a7-8244-4de079410caf&__tn__=!%3AD', 'https://www.facebook.com/marketplace/item/564337395220213/?hoisted=false&ref=search&referral_code=null&referral_story_type=post&tracking=browse_serp%3Ae0d91ba9-aff7-49a7-8244-4de079410caf&__tn__=!%3AD', 'https://www.facebook.com/marketplace/item/1186421105602151/?hoisted=false&ref=search&referral_code=null&referral_story_type=post&tracking=browse_serp%3Ae0d91ba9-aff7-49a7-8244-4de079410caf&__tn__=!%3AD', 'https://www.facebook.com/marketplace/item/748775819976495/?hoisted=false&ref=search&referral_code=null&referral_story_type=post&tracking=browse_serp%3Ae0d91ba9-aff7-49a7-8244-4de079410caf&__tn__=!%3AD', 'https://www.facebook.com/marketplace/item/556797009442947/?hoisted=false&ref=search&referral_code=null&referral_story_type=post&tracking=browse_serp%3Ae0d91ba9-aff7-49a7-8244-4de079410caf&__tn__=!%3AD', 'https://www.facebook.com/marketplace/item/562107149105703/?hoisted=false&ref=search&referral_code=null&referral_story_type=post&tracking=browse_serp%3Ae0d91ba9-aff7-49a7-8244-4de079410caf&__tn__=!%3AD', 'https://www.facebook.com/marketplace/item/1247144946143611/?hoisted=false&ref=search&referral_code=null&referral_story_type=post&tracking=browse_serp%3Ae0d91ba9-aff7-49a7-8244-4de079410caf&__tn__=!%3AD', 'https://www.facebook.com/marketplace/item/714592000271325/?hoisted=false&ref=search&referral_code=null&referral_story_type=post&tracking=browse_serp%3Ae0d91ba9-aff7-49a7-8244-4de079410caf&__tn__=!%3AD', 'https://www.facebook.com/marketplace/item/710708493752215/?hoisted=false&ref=search&referral_code=null&referral_story_type=post&tracking=browse_serp%3Ae0d91ba9-aff7-49a7-8244-4de079410caf&__tn__=!%3AD', 'https://www.facebook.com/marketplace/item/1237786370139662/?hoisted=false&ref=search&referral_code=null&referral_story_type=post&tracking=browse_serp%3Ae0d91ba9-aff7-49a7-8244-4de079410caf&__tn__=!%3AD', 'https://www.facebook.com/marketplace/item/1550675595429284/?hoisted=false&ref=search&referral_code=null&referral_story_type=post&tracking=browse_serp%3Ae0d91ba9-aff7-49a7-8244-4de079410caf&__tn__=!%3AD', 'https://www.facebook.com/marketplace/item/623041929625614/?hoisted=false&ref=search&referral_code=null&referral_story_type=post&tracking=browse_serp%3Ae0d91ba9-aff7-49a7-8244-4de079410caf&__tn__=!%3AD', 'https://www.facebook.com/marketplace/item/636875851552621/?hoisted=false&ref=search&referral_code=null&referral_story_type=post&tracking=browse_serp%3Ae0d91ba9-aff7-49a7-8244-4de079410caf&__tn__=!%3AD', 'https://www.facebook.com/marketplace/item/1155223808530182/?hoisted=false&ref=search&referral_code=null&referral_story_type=post&tracking=browse_serp%3Ae0d91ba9-aff7-49a7-8244-4de079410caf&__tn__=!%3AD', 'https://www.facebook.com/marketplace/item/1226124124999774/?hoisted=false&ref=search&referral_code=null&referral_story_type=post&tracking=browse_serp%3Ae0d91ba9-aff7-49a7-8244-4de079410caf&__tn__=!%3AD', 'https://www.facebook.com/marketplace/item/721276055932163/?hoisted=false&ref=search&referral_code=null&referral_story_type=post&tracking=browse_serp%3Ae0d91ba9-aff7-49a7-8244-4de079410caf&__tn__=!%3AD', 'https://www.facebook.com/marketplace/item/744996953653562/?hoisted=false&ref=search&referral_code=null&referral_story_type=post&tracking=browse_serp%3Ae0d91ba9-aff7-49a7-8244-4de079410caf&__tn__=!%3AD', 'https://www.facebook.com/marketplace/item/676257634025580/?hoisted=false&ref=search&referral_code=null&referral_story_type=post&tracking=browse_serp%3Ae0d91ba9-aff7-49a7-8244-4de079410caf&__tn__=!%3AD', 'https://www.facebook.com/marketplace/item/481408130838313/?hoisted=false&ref=search&referral_code=null&referral_story_type=post&tracking=browse_serp%3Ae0d91ba9-aff7-49a7-8244-4de079410caf&__tn__=!%3AD', 'https://www.facebook.com/marketplace/item/1494797881032313/?hoisted=false&ref=search&referral_code=null&referral_story_type=post&tracking=browse_serp%3Ae0d91ba9-aff7-49a7-8244-4de079410caf&__tn__=!%3AD', 'https://www.facebook.com/marketplace/item/5995383260523980/?hoisted=false&ref=search&referral_code=null&referral_story_type=post&tracking=browse_serp%3Ae0d91ba9-aff7-49a7-8244-4de079410caf&__tn__=!%3AD', 'https://www.facebook.com/marketplace/item/567129708085050/?hoisted=false&ref=search&referral_code=null&referral_story_type=post&tracking=browse_serp%3Ae0d91ba9-aff7-49a7-8244-4de079410caf&__tn__=!%3AD', 'https://www.facebook.com/marketplace/item/722344355986758/?hoisted=false&ref=search&referral_code=null&referral_story_type=post&tracking=browse_serp%3Ae0d91ba9-aff7-49a7-8244-4de079410caf&__tn__=!%3AD', 'https://www.facebook.com/marketplace/item/6612678282092241/?hoisted=false&ref=search&referral_code=null&referral_story_type=post&tracking=browse_serp%3Ae0d91ba9-aff7-49a7-8244-4de079410caf&__tn__=!%3AD', 'https://www.facebook.com/marketplace/item/406007391717831/?hoisted=false&ref=search&referral_code=null&referral_story_type=post&tracking=browse_serp%3Ae0d91ba9-aff7-49a7-8244-4de079410caf&__tn__=!%3AD', 'https://www.facebook.com/marketplace/item/1349316752551313/?hoisted=false&ref=search&referral_code=null&referral_story_type=post&tracking=browse_serp%3Ae0d91ba9-aff7-49a7-8244-4de079410caf&__tn__=!%3AD', 'https://www.facebook.com/marketplace/item/834883017742454/?hoisted=false&ref=search&referral_code=null&referral_story_type=post&tracking=browse_serp%3Ae0d91ba9-aff7-49a7-8244-4de079410caf&__tn__=!%3AD', 'https://www.facebook.com/marketplace/item/872100207325653/?hoisted=false&ref=search&referral_code=null&referral_story_type=post&tracking=browse_serp%3Ae0d91ba9-aff7-49a7-8244-4de079410caf&__tn__=!%3AD', 'https://www.facebook.com/marketplace/item/1563483470804168/?hoisted=false&ref=search&referral_code=null&referral_story_type=post&tracking=browse_serp%3Ae0d91ba9-aff7-49a7-8244-4de079410caf&__tn__=!%3AD', 'https://www.facebook.com/marketplace/item/682865026664846/?hoisted=false&ref=search&referral_code=null&referral_story_type=post&tracking=browse_serp%3Ae0d91ba9-aff7-49a7-8244-4de079410caf&__tn__=!%3AD', 'https://www.facebook.com/marketplace/item/5886148108118008/?hoisted=false&ref=search&referral_code=null&referral_story_type=post&tracking=browse_serp%3Ae0d91ba9-aff7-49a7-8244-4de079410caf&__tn__=!%3AD', 'https://www.facebook.com/marketplace/item/1722801881447528/?hoisted=false&ref=search&referral_code=null&referral_story_type=post&tracking=browse_serp%3Ae0d91ba9-aff7-49a7-8244-4de079410caf&__tn__=!%3AD', 'https://www.facebook.com/marketplace/item/1332826504145117/?hoisted=false&ref=search&referral_code=null&referral_story_type=post&tracking=browse_serp%3Ae0d91ba9-aff7-49a7-8244-4de079410caf&__tn__=!%3AD', 'https://www.facebook.com/marketplace/item/770231457856047/?hoisted=false&ref=search&referral_code=null&referral_story_type=post&tracking=browse_serp%3Ae0d91ba9-aff7-49a7-8244-4de079410caf&__tn__=!%3AD', 'https://www.facebook.com/marketplace/item/698797198576888/?hoisted=false&ref=search&referral_code=null&referral_story_type=post&tracking=browse_serp%3Ae0d91ba9-aff7-49a7-8244-4de079410caf&__tn__=!%3AD', 'https://www.facebook.com/marketplace/item/1428528934348462/?hoisted=false&ref=search&referral_code=null&referral_story_type=post&tracking=browse_serp%3Ae0d91ba9-aff7-49a7-8244-4de079410caf&__tn__=!%3AD', 'https://www.facebook.com/marketplace/item/678628637066714/?hoisted=false&ref=search&referral_code=null&referral_story_type=post&tracking=browse_serp%3Ae0d91ba9-aff7-49a7-8244-4de079410caf&__tn__=!%3AD', 'https://www.facebook.com/marketplace/item/567710938164093/?hoisted=false&ref=search&referral_code=null&referral_story_type=post&tracking=browse_serp%3Ae0d91ba9-aff7-49a7-8244-4de079410caf&__tn__=!%3AD', 'https://www.facebook.com/marketplace/item/1153751018840156/?hoisted=false&ref=search&referral_code=null&referral_story_type=post&tracking=browse_serp%3Ae0d91ba9-aff7-49a7-8244-4de079410caf&__tn__=!%3AD', 'https://www.facebook.com/marketplace/item/537671938377945/?hoisted=false&ref=search&referral_code=null&referral_story_type=post&tracking=browse_serp%3Ae0d91ba9-aff7-49a7-8244-4de079410caf&__tn__=!%3AD', 'https://www.facebook.com/marketplace/item/697118811880369/?hoisted=false&ref=search&referral_code=null&referral_story_type=post&tracking=browse_serp%3Ae0d91ba9-aff7-49a7-8244-4de079410caf&__tn__=!%3AD', 'https://www.facebook.com/marketplace/item/1136104433726387/?hoisted=false&ref=search&referral_code=null&referral_story_type=post&tracking=browse_serp%3Ae0d91ba9-aff7-49a7-8244-4de079410caf&__tn__=!%3AD', 'https://www.facebook.com/marketplace/item/1334778060640772/?hoisted=false&ref=search&referral_code=null&referral_story_type=post&tracking=browse_serp%3Ae0d91ba9-aff7-49a7-8244-4de079410caf&__tn__=!%3AD', 'https://www.facebook.com/marketplace/item/856224105460190/?hoisted=false&ref=search&referral_code=null&referral_story_type=post&tracking=browse_serp%3Ae0d91ba9-aff7-49a7-8244-4de079410caf&__tn__=!%3AD', 'https://www.facebook.com/marketplace/item/726224705502149/?hoisted=false&ref=search&referral_code=null&referral_story_type=post&tracking=browse_serp%3Ae0d91ba9-aff7-49a7-8244-4de079410caf&__tn__=!%3AD', 'https://www.facebook.com/marketplace/item/898403261569726/?hoisted=false&ref=search&referral_code=null&referral_story_type=post&tracking=browse_serp%3Ae0d91ba9-aff7-49a7-8244-4de079410caf&__tn__=!%3AD', 'https://www.facebook.com/marketplace/item/1517599872068314/?hoisted=false&ref=search&referral_code=null&referral_story_type=post&tracking=browse_serp%3Ae0d91ba9-aff7-49a7-8244-4de079410caf&__tn__=!%3AD', 'https://www.facebook.com/marketplace/item/1485029681989545/?hoisted=false&ref=search&referral_code=null&referral_story_type=post&tracking=browse_serp%3Ae0d91ba9-aff7-49a7-8244-4de079410caf&__tn__=!%3AD', 'https://www.facebook.com/marketplace/item/564337395220213/?hoisted=false&ref=search&referral_code=null&referral_story_type=post&tracking=browse_serp%3Ae0d91ba9-aff7-49a7-8244-4de079410caf&__tn__=!%3AD', 'https://www.facebook.com/marketplace/item/1186421105602151/?hoisted=false&ref=search&referral_code=null&referral_story_type=post&tracking=browse_serp%3Ae0d91ba9-aff7-49a7-8244-4de079410caf&__tn__=!%3AD', 'https://www.facebook.com/marketplace/item/748775819976495/?hoisted=false&ref=search&referral_code=null&referral_story_type=post&tracking=browse_serp%3Ae0d91ba9-aff7-49a7-8244-4de079410caf&__tn__=!%3AD', 'https://www.facebook.com/marketplace/item/556797009442947/?hoisted=false&ref=search&referral_code=null&referral_story_type=post&tracking=browse_serp%3Ae0d91ba9-aff7-49a7-8244-4de079410caf&__tn__=!%3AD', 'https://www.facebook.com/marketplace/item/562107149105703/?hoisted=false&ref=search&referral_code=null&referral_story_type=post&tracking=browse_serp%3Ae0d91ba9-aff7-49a7-8244-4de079410caf&__tn__=!%3AD', 'https://www.facebook.com/marketplace/item/1247144946143611/?hoisted=false&ref=search&referral_code=null&referral_story_type=post&tracking=browse_serp%3Ae0d91ba9-aff7-49a7-8244-4de079410caf&__tn__=!%3AD', 'https://www.facebook.com/marketplace/item/714592000271325/?hoisted=false&ref=search&referral_code=null&referral_story_type=post&tracking=browse_serp%3Ae0d91ba9-aff7-49a7-8244-4de079410caf&__tn__=!%3AD', 'https://www.facebook.com/marketplace/item/710708493752215/?hoisted=false&ref=search&referral_code=null&referral_story_type=post&tracking=browse_serp%3Ae0d91ba9-aff7-49a7-8244-4de079410caf&__tn__=!%3AD', 'https://www.facebook.com/marketplace/item/1237786370139662/?hoisted=false&ref=search&referral_code=null&referral_story_type=post&tracking=browse_serp%3Ae0d91ba9-aff7-49a7-8244-4de079410caf&__tn__=!%3AD', 'https://www.facebook.com/marketplace/item/1550675595429284/?hoisted=false&ref=search&referral_code=null&referral_story_type=post&tracking=browse_serp%3Ae0d91ba9-aff7-49a7-8244-4de079410caf&__tn__=!%3AD', 'https://www.facebook.com/marketplace/item/623041929625614/?hoisted=false&ref=search&referral_code=null&referral_story_type=post&tracking=browse_serp%3Ae0d91ba9-aff7-49a7-8244-4de079410caf&__tn__=!%3AD', 'https://www.facebook.com/marketplace/item/636875851552621/?hoisted=false&ref=search&referral_code=null&referral_story_type=post&tracking=browse_serp%3Ae0d91ba9-aff7-49a7-8244-4de079410caf&__tn__=!%3AD', 'https://www.facebook.com/marketplace/item/1155223808530182/?hoisted=false&ref=search&referral_code=null&referral_story_type=post&tracking=browse_serp%3Ae0d91ba9-aff7-49a7-8244-4de079410caf&__tn__=!%3AD', 'https://www.facebook.com/marketplace/item/1226124124999774/?hoisted=false&ref=search&referral_code=null&referral_story_type=post&tracking=browse_serp%3Ae0d91ba9-aff7-49a7-8244-4de079410caf&__tn__=!%3AD', 'https://www.facebook.com/marketplace/item/721276055932163/?hoisted=false&ref=search&referral_code=null&referral_story_type=post&tracking=browse_serp%3Ae0d91ba9-aff7-49a7-8244-4de079410caf&__tn__=!%3AD', 'https://www.facebook.com/marketplace/item/744996953653562/?hoisted=false&ref=search&referral_code=null&referral_story_type=post&tracking=browse_serp%3Ae0d91ba9-aff7-49a7-8244-4de079410caf&__tn__=!%3AD', 'https://www.facebook.com/marketplace/item/676257634025580/?hoisted=false&ref=search&referral_code=null&referral_story_type=post&tracking=browse_serp%3Ae0d91ba9-aff7-49a7-8244-4de079410caf&__tn__=!%3AD', 'https://www.facebook.com/marketplace/item/481408130838313/?hoisted=false&ref=search&referral_code=null&referral_story_type=post&tracking=browse_serp%3Ae0d91ba9-aff7-49a7-8244-4de079410caf&__tn__=!%3AD', 'https://www.facebook.com/marketplace/item/1494797881032313/?hoisted=false&ref=search&referral_code=null&referral_story_type=post&tracking=browse_serp%3Ae0d91ba9-aff7-49a7-8244-4de079410caf&__tn__=!%3AD', 'https://www.facebook.com/marketplace/item/5995383260523980/?hoisted=false&ref=search&referral_code=null&referral_story_type=post&tracking=browse_serp%3Ae0d91ba9-aff7-49a7-8244-4de079410caf&__tn__=!%3AD', 'https://www.facebook.com/marketplace/item/567129708085050/?hoisted=false&ref=search&referral_code=null&referral_story_type=post&tracking=browse_serp%3Ae0d91ba9-aff7-49a7-8244-4de079410caf&__tn__=!%3AD', 'https://www.facebook.com/marketplace/item/722344355986758/?hoisted=false&ref=search&referral_code=null&referral_story_type=post&tracking=browse_serp%3Ae0d91ba9-aff7-49a7-8244-4de079410caf&__tn__=!%3AD', 'https://www.facebook.com/marketplace/item/6612678282092241/?hoisted=false&ref=search&referral_code=null&referral_story_type=post&tracking=browse_serp%3Ae0d91ba9-aff7-49a7-8244-4de079410caf&__tn__=!%3AD', 'https://www.facebook.com/marketplace/item/406007391717831/?hoisted=false&ref=search&referral_code=null&referral_story_type=post&tracking=browse_serp%3Ae0d91ba9-aff7-49a7-8244-4de079410caf&__tn__=!%3AD', 'https://www.facebook.com/marketplace/item/1349316752551313/?hoisted=false&ref=search&referral_code=null&referral_story_type=post&tracking=browse_serp%3Ae0d91ba9-aff7-49a7-8244-4de079410caf&__tn__=!%3AD', 'https://www.facebook.com/marketplace/item/834883017742454/?hoisted=false&ref=search&referral_code=null&referral_story_type=post&tracking=browse_serp%3Ae0d91ba9-aff7-49a7-8244-4de079410caf&__tn__=!%3AD', 'https://www.facebook.com/marketplace/item/872100207325653/?hoisted=false&ref=search&referral_code=null&referral_story_type=post&tracking=browse_serp%3Ae0d91ba9-aff7-49a7-8244-4de079410caf&__tn__=!%3AD', 'https://www.facebook.com/marketplace/item/1563483470804168/?hoisted=false&ref=search&referral_code=null&referral_story_type=post&tracking=browse_serp%3Ae0d91ba9-aff7-49a7-8244-4de079410caf&__tn__=!%3AD', 'https://www.facebook.com/marketplace/item/682865026664846/?hoisted=false&ref=search&referral_code=null&referral_story_type=post&tracking=browse_serp%3Ae0d91ba9-aff7-49a7-8244-4de079410caf&__tn__=!%3AD', 'https://www.facebook.com/marketplace/item/5886148108118008/?hoisted=false&ref=search&referral_code=null&referral_story_type=post&tracking=browse_serp%3Ae0d91ba9-aff7-49a7-8244-4de079410caf&__tn__=!%3AD', 'https://www.facebook.com/marketplace/item/1722801881447528/?hoisted=false&ref=search&referral_code=null&referral_story_type=post&tracking=browse_serp%3Ae0d91ba9-aff7-49a7-8244-4de079410caf&__tn__=!%3AD']\n"
     ]
    }
   ],
   "source": [
    "links=driver.find_elements(By.XPATH,\"//body[1]/div[1]/div[1]/div[1]/div[1]/div[3]/div[1]/div[1]/div[1]/div[1]/div[1]/div[2]/div[1]/div[1]/div[3]/div[1]/div[2]/div/div[1]/div[1]/span[1]/div[1]/div[1]/a[1]\")\n",
    "for link in links:                   \n",
    "    link_href=link.get_attribute(\"href\")\n",
    "    items_links.append(link_href)\n",
    "print(items_links)\n"
   ]
  },
  {
   "cell_type": "code",
   "execution_count": null,
   "metadata": {},
   "outputs": [],
   "source": [
    "ids = [i for i in range(len(items_links))]\n",
    "df = pd.DataFrame(list(zip(brand, prices, location_phone, storage, battery,items_links)), columns =['brand', 'prices', 'location_phone', 'storage', 'battery', 'links'])\n",
    "\n",
    "#print(df) \n",
    "df.to_csv(\"Scraping_data.csv\")"
   ]
  },
  {
   "cell_type": "code",
   "execution_count": null,
   "metadata": {},
   "outputs": [],
   "source": [
    "dataset = pd.read_csv(\"Scraping_data.csv\")"
   ]
  },
  {
   "cell_type": "code",
   "execution_count": null,
   "metadata": {},
   "outputs": [],
   "source": [
    "# Importing libraries\n",
    "import numpy as np\n",
    "import pandas as pd\n",
    "\n",
    "import seaborn as sns\n",
    "import matplotlib.pyplot as plt\n",
    "\n",
    "import plotly.express as px\n",
    "import plotly.graph_objects as go\n",
    "import plotly.offline as py\n",
    "\n",
    "import warnings\n",
    "warnings.filterwarnings(\"ignore\")\n",
    "\n",
    "%matplotlib inline"
   ]
  },
  {
   "cell_type": "code",
   "execution_count": null,
   "metadata": {},
   "outputs": [],
   "source": [
    "# head() function takes the number of lines you wanna show as an argument\n",
    "dataset.head(8)"
   ]
  },
  {
   "cell_type": "code",
   "execution_count": null,
   "metadata": {},
   "outputs": [],
   "source": [
    "# dataset shape\n",
    "nRow, nCol = dataset.shape\n",
    "print(f'There are {nRow} rows and {nCol} columns')"
   ]
  },
  {
   "cell_type": "markdown",
   "metadata": {},
   "source": [
    "EDA 🔎"
   ]
  },
  {
   "cell_type": "code",
   "execution_count": null,
   "metadata": {},
   "outputs": [],
   "source": [
    "# info() \n",
    "dataset.info()"
   ]
  },
  {
   "cell_type": "code",
   "execution_count": null,
   "metadata": {},
   "outputs": [],
   "source": [
    "# describe() function gives a disc of all the columns\n",
    "dataset.describe()"
   ]
  },
  {
   "cell_type": "code",
   "execution_count": null,
   "metadata": {},
   "outputs": [],
   "source": [
    "# isnull() checking the null values\n",
    "dataset.isnull().sum()"
   ]
  },
  {
   "cell_type": "code",
   "execution_count": null,
   "metadata": {},
   "outputs": [],
   "source": [
    "# function to plot hist\n",
    "def histogram(var):\n",
    "    plt.figure(figsize = (10,5))\n",
    "    plt.hist(dataset[var], bins=40)\n",
    "    plt.xlabel(var)\n",
    "    plt.ylabel(\"Frequency\")\n",
    "    plt.title(\"histogram of \"+var)\n",
    "    plt.show()"
   ]
  },
  {
   "cell_type": "code",
   "execution_count": null,
   "metadata": {},
   "outputs": [],
   "source": [
    "histogram(\"battery\")"
   ]
  },
  {
   "cell_type": "code",
   "execution_count": null,
   "metadata": {},
   "outputs": [],
   "source": [
    "histogram(\"storage\")"
   ]
  },
  {
   "cell_type": "code",
   "execution_count": null,
   "metadata": {},
   "outputs": [],
   "source": [
    "def bar(var_name):\n",
    "    plt.figure(figsize=(7,7))\n",
    "    counted_values = dataset[var_name].value_counts()\n",
    "\n",
    "    plt.bar(counted_values.index, counted_values)\n",
    "    plt.xlabel(var_name)\n",
    "    plt.ylabel(\"number\")\n",
    "    plt.title(\"frequncy of \"+var_name)"
   ]
  },
  {
   "cell_type": "code",
   "execution_count": null,
   "metadata": {},
   "outputs": [],
   "source": [
    "bar(\"prices\")"
   ]
  },
  {
   "cell_type": "code",
   "execution_count": null,
   "metadata": {},
   "outputs": [],
   "source": [
    "# correlation between Price and Battery\n",
    "df_2_col = dataset[['prices','battery']]\n",
    "df_2_col.groupby([\"prices\"], as_index=False).mean()"
   ]
  },
  {
   "cell_type": "code",
   "execution_count": null,
   "metadata": {},
   "outputs": [],
   "source": [
    "# the most pricy phone title\n",
    "df_2_col.groupby(['storage'], as_index=False).mean().sort_values(by=['prices'], ascending=False)"
   ]
  },
  {
   "cell_type": "markdown",
   "metadata": {},
   "source": [
    "Preprocessing ⚙️"
   ]
  },
  {
   "cell_type": "code",
   "execution_count": null,
   "metadata": {},
   "outputs": [],
   "source": [
    "from sklearn.model_selection import train_test_split \n",
    "from sklearn.metrics import classification_report, accuracy_score, confusion_matrix"
   ]
  },
  {
   "cell_type": "code",
   "execution_count": null,
   "metadata": {},
   "outputs": [],
   "source": [
    "# training_data -> attributes, target -> diabetes\n",
    "training_data = df.drop(['prices'], axis=1)\n",
    "target = df[['prices']]\n",
    "\n",
    "X_train, X_test, y_train, y_test = train_test_split(training_data, target, test_size=0.2, random_state=10)"
   ]
  },
  {
   "cell_type": "code",
   "execution_count": null,
   "metadata": {},
   "outputs": [],
   "source": [
    "print('the number of training entries is: ', X_train.shape[0])\n",
    "print('the number of testing entries is: ', X_test.shape[0])"
   ]
  },
  {
   "cell_type": "code",
   "execution_count": null,
   "metadata": {},
   "outputs": [],
   "source": [
    "# y_train values:\n",
    "y_train.value_counts()"
   ]
  },
  {
   "cell_type": "code",
   "execution_count": null,
   "metadata": {},
   "outputs": [],
   "source": [
    "# y_test values:\n",
    "y_test.value_counts()"
   ]
  },
  {
   "cell_type": "code",
   "execution_count": null,
   "metadata": {},
   "outputs": [],
   "source": [
    "def confusion(y_test, y_pred):\n",
    "    conf = pd.DataFrame(confusion_matrix(y_test, y_pred))\n",
    "    print('\\nConfusion Matrix:')\n",
    "    print(conf)\n",
    "    return conf"
   ]
  },
  {
   "cell_type": "markdown",
   "metadata": {},
   "source": [
    "Building models 🛠️"
   ]
  },
  {
   "cell_type": "code",
   "execution_count": null,
   "metadata": {},
   "outputs": [],
   "source": [
    "from xgboost import XGBClassifier\n",
    "\n",
    "\n",
    "mscore=[]\n",
    "model = XGBClassifier()\n",
    "model.fit(X_train, y_train)\n",
    "y_pred = model.predict(X_test)\n",
    "\n",
    "accuracy = accuracy_score(y_test, y_pred)\n",
    "print(\"\\nAccuracy: %.2f%%\" % (accuracy * 100.0))\n",
    "\n",
    "mscore.append(['XGBClassifier', accuracy])\n",
    "\n",
    "confusion(y_test, y_pred)"
   ]
  },
  {
   "cell_type": "markdown",
   "metadata": {},
   "source": [
    "Logistic Regression"
   ]
  },
  {
   "cell_type": "code",
   "execution_count": null,
   "metadata": {},
   "outputs": [],
   "source": [
    "from sklearn.linear_model import LogisticRegression\n",
    "\n",
    "clf = LogisticRegression(max_iter=100, solver='lbfgs', class_weight='balanced', random_state=11).fit(X_train, y_train)\n",
    "y_pred = clf.predict(X_test)\n",
    "\n",
    "print('\\nAccuracy Score: '+str(clf.score(X_test, y_test)*100)+\"%\")\n",
    "\n",
    "mscore.append(['Logistic Regression', clf.score(X_test, y_test)])\n",
    "\n",
    "print(classification_report(y_test, y_pred))\n",
    "confusion(y_test, y_pred)"
   ]
  },
  {
   "cell_type": "markdown",
   "metadata": {},
   "source": [
    "Random Forest"
   ]
  },
  {
   "cell_type": "code",
   "execution_count": null,
   "metadata": {},
   "outputs": [],
   "source": [
    "from sklearn.ensemble import RandomForestClassifier\n",
    "\n",
    "rnd_clf = RandomForestClassifier(n_estimators=150, criterion='gini', max_depth=5, random_state=11)\n",
    "rnd_clf.fit(X_train, y_train)\n",
    "\n",
    "y_pred = rnd_clf.predict(X_test)\n",
    "\n",
    "print(\"\\nAccuracy Score: %.2f%%\" % float(rnd_clf.score(X_test, y_test)*100))\n",
    "\n",
    "\n",
    "mscore.append(['Random Forest', rnd_clf.score(X_test, y_test)])\n",
    "\n",
    "print(classification_report(y_test, y_pred))\n",
    "confusion(y_test, y_pred)"
   ]
  },
  {
   "cell_type": "code",
   "execution_count": null,
   "metadata": {},
   "outputs": [],
   "source": [
    "from sklearn.ensemble import GradientBoostingClassifier\n",
    "\n",
    "gbc = GradientBoostingClassifier(learning_rate=0.1, n_estimators=10, random_state=11)\n",
    "gbc.fit(X_train, y_train)\n",
    "\n",
    "y_pred = gbc.predict(X_test)\n",
    "\n",
    "print(\"\\nAccuracy Score: %.2f%%\" % float(gbc.score(X_test, y_test)*100))\n",
    "\n",
    "mscore.append(['GradientBoosting', gbc.score(X_test, y_test)])\n",
    "\n",
    "print(classification_report(y_test, y_pred))\n",
    "confusion(y_test, y_pred)"
   ]
  },
  {
   "attachments": {},
   "cell_type": "markdown",
   "metadata": {},
   "source": [
    "AdaBoostClassifier"
   ]
  },
  {
   "cell_type": "code",
   "execution_count": null,
   "metadata": {},
   "outputs": [],
   "source": [
    "from sklearn.ensemble import AdaBoostClassifier\n",
    "\n",
    "ada = AdaBoostClassifier(learning_rate=0.01, n_estimators=30, random_state=11)\n",
    "ada.fit(X_train, y_train)\n",
    "\n",
    "y_pred = ada.predict(X_test)\n",
    "\n",
    "print(\"\\nAccuracy Score: %.2f%%\" % float(ada.score(X_test, y_test)*100))\n",
    "\n",
    "mscore.append(['Adaptive Boosting', ada.score(X_test, y_test)])\n",
    "\n",
    "# from sklearn.metrics import classification_report\n",
    "print(classification_report(y_test, y_pred))\n",
    "confusion(y_test, y_pred)"
   ]
  },
  {
   "attachments": {},
   "cell_type": "markdown",
   "metadata": {},
   "source": [
    "SVM\n"
   ]
  },
  {
   "cell_type": "code",
   "execution_count": null,
   "metadata": {},
   "outputs": [],
   "source": [
    "from sklearn.svm import SVC\n",
    "svm_clf = SVC(kernel='sigmoid', gamma='auto', random_state=11)\n",
    "svm_clf.fit(X_train, y_train)\n",
    "y_pred = svm_clf.predict(X_test)\n",
    "\n",
    "print(\"\\nAccuracy Score: %.2f%%\" % float(svm_clf.score(X_test, y_test)*100))# In[ ]:\n",
    "\n",
    "mscore.append(['SVM', svm_clf.score(X_test, y_test)])\n",
    "\n",
    "# from sklearn.metrics import classification_report\n",
    "print(classification_report(y_test, y_pred))\n",
    "confusion(y_test, y_pred)"
   ]
  },
  {
   "cell_type": "markdown",
   "metadata": {},
   "source": [
    "Model Comparison 📉"
   ]
  },
  {
   "cell_type": "code",
   "execution_count": null,
   "metadata": {},
   "outputs": [],
   "source": [
    "mscore.sort(key=lambda x: x[1], reverse=True)\n",
    "mscore"
   ]
  },
  {
   "cell_type": "code",
   "execution_count": null,
   "metadata": {},
   "outputs": [],
   "source": [
    "model = list(i[0] for i in mscore)\n",
    "score = list(round(i[1]*100,2) for i in mscore)\n",
    "\n",
    "print('Accracy Score: \\n')\n",
    "for m,s in zip(model, score):\n",
    "    print(f'{m}: {s}%')\n",
    "  \n",
    " \n",
    "# creating horizontal bar plot\n",
    "plt.barh(model, score, height = 0.5, color='#4B4E6D') # this color is called independence, how cool!\n",
    " \n",
    "plt.xlabel(\"Accuracy Score\")\n",
    "plt.ylabel(\"Model\")\n",
    "plt.title(\"Model Comparison\")\n",
    "plt.gca().invert_yaxis()\n",
    "plt.show()"
   ]
  },
  {
   "cell_type": "markdown",
   "metadata": {},
   "source": [
    "Models to Production 👷‍"
   ]
  },
  {
   "cell_type": "code",
   "execution_count": null,
   "metadata": {},
   "outputs": [],
   "source": [
    "import joblib\n",
    "\n",
    "# save the models to disk\n",
    "joblib.dump(clf, \"./Models/LR.sav\")# load the models from disk\n",
    "joblib.dump(rnd_clf, \"./Models/RF_CLF.sav\")\n",
    "joblib.dump(model, \"./Models/XGB.sav\")\n",
    " \n",
    "# some time later...\n",
    " \n",
    "# load the model from disk\n",
    "loaded_model = joblib.load(\"./Models/LR.sav\")\n",
    "result = loaded_model.score(X_test, y_test)\n",
    "print(result)"
   ]
  }
 ],
 "metadata": {
  "kernelspec": {
   "display_name": "base",
   "language": "python",
   "name": "python3"
  },
  "language_info": {
   "codemirror_mode": {
    "name": "ipython",
    "version": 3
   },
   "file_extension": ".py",
   "mimetype": "text/x-python",
   "name": "python",
   "nbconvert_exporter": "python",
   "pygments_lexer": "ipython3",
   "version": "3.9.13 (main, Aug 25 2022, 23:51:50) [MSC v.1916 64 bit (AMD64)]"
  },
  "orig_nbformat": 4,
  "vscode": {
   "interpreter": {
    "hash": "ad2bdc8ecc057115af97d19610ffacc2b4e99fae6737bb82f5d7fb13d2f2c186"
   }
  }
 },
 "nbformat": 4,
 "nbformat_minor": 2
}
